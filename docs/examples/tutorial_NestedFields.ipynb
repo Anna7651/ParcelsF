{
 "cells": [
  {
   "attachments": {},
   "cell_type": "markdown",
   "metadata": {},
   "source": [
    "# NestedFields\n"
   ]
  },
  {
   "attachments": {},
   "cell_type": "markdown",
   "metadata": {},
   "source": [
    "In some applications, you may have access to different fields that each cover only part of the region of interest. Then, you would like to combine them all together. You may also have a field covering the entire region and another one only covering part of it, but with a higher resolution. The set of those fields form what we call nested fields.\n",
    "\n",
    "It is possible to combine all those fields with kernels, either with different if/else statements depending on particle position, or using recovery kernels (if only two levels of nested fields).\n",
    "\n",
    "However, an easier way to work with nested fields in Parcels is to combine all those fields into one `NestedField` object. The Parcels code will then try to successively interpolate the different fields.\n",
    "\n",
    "For each Particle, the algorithm is the following:\n",
    "\n",
    "1. Interpolate the particle onto the first `Field` in the `NestedFields` list.\n",
    "\n",
    "2. If the interpolation succeeds or if an error other than `ErrorOutOfBounds` is thrown, the function is stopped.\n",
    "\n",
    "3. If an `ErrorOutOfBounds` is thrown, try step 1) again with the next `Field` in the `NestedFields` list\n",
    "\n",
    "4. If interpolation on the last `Field` in the `NestedFields` list also returns an `ErrorOutOfBounds`, then the Particle is flagged as OutOfBounds.\n",
    "\n",
    "This algorithm means that **the order of the fields in the 'NestedField' matters**. In particular, the smallest/finest resolution fields have to be listed _before_ the larger/coarser resolution fields.\n",
    "\n",
    "Note also that `pset.execute()` can be _much_ slower on `NestedField` objects than on normal `Fields`. This is because the handling of the `ErrorOutOfBounds` (step 3) happens outside the fast inner-JIT-loop in C; but instead is delt with in the slower python loop around it. This means that especially in cases where particles often move from one nest to another, simulations can become very slow.\n",
    "\n",
    "This tutorial shows how to use these `NestedField` with a very idealised example.\n"
   ]
  },
  {
   "cell_type": "code",
   "execution_count": 1,
   "metadata": {},
   "outputs": [],
   "source": [
    "%matplotlib inline\n",
    "import numpy as np\n",
    "\n",
    "from parcels import (\n",
    "    AdvectionRK4,\n",
    "    Field,\n",
    "    FieldSet,\n",
    "    JITParticle,\n",
    "    NestedField,\n",
    "    ParticleSet,\n",
    "    plotTrajectoriesFile,\n",
    ")"
   ]
  },
  {
   "attachments": {},
   "cell_type": "markdown",
   "metadata": {},
   "source": [
    "First define a zonal and meridional velocity field defined on a high resolution (dx = 100m) 2kmx2km grid with a flat mesh. The zonal velocity is uniform and 1 m/s, and the meridional velocity is equal to 0.5 _ cos(lon / 200 _ pi / 2) m/s.\n"
   ]
  },
  {
   "cell_type": "code",
   "execution_count": 2,
   "metadata": {},
   "outputs": [],
   "source": [
    "dim = 21\n",
    "lon = np.linspace(0.0, 2e3, dim, dtype=np.float32)\n",
    "lat = np.linspace(0.0, 2e3, dim, dtype=np.float32)\n",
    "lon_g, lat_g = np.meshgrid(lon, lat)\n",
    "V1_data = np.cos(lon_g / 200 * np.pi / 2)\n",
    "U1 = Field(\"U1\", np.ones((dim, dim), dtype=np.float32), lon=lon, lat=lat)\n",
    "V1 = Field(\"V1\", V1_data, grid=U1.grid)"
   ]
  },
  {
   "attachments": {},
   "cell_type": "markdown",
   "metadata": {},
   "source": [
    "Now define the same velocity field on a low resolution (dx = 2km) 20kmx4km grid.\n"
   ]
  },
  {
   "cell_type": "code",
   "execution_count": 3,
   "metadata": {},
   "outputs": [],
   "source": [
    "xdim = 11\n",
    "ydim = 3\n",
    "lon = np.linspace(-2e3, 18e3, xdim, dtype=np.float32)\n",
    "lat = np.linspace(-1e3, 3e3, ydim, dtype=np.float32)\n",
    "lon_g, lat_g = np.meshgrid(lon, lat)\n",
    "V2_data = np.cos(lon_g / 200 * np.pi / 2)\n",
    "U2 = Field(\"U2\", np.ones((ydim, xdim), dtype=np.float32), lon=lon, lat=lat)\n",
    "V2 = Field(\"V2\", V2_data, grid=U2.grid)"
   ]
  },
  {
   "attachments": {},
   "cell_type": "markdown",
   "metadata": {},
   "source": [
    "We now combine those fields into a `NestedField` and create the fieldset\n"
   ]
  },
  {
   "cell_type": "code",
   "execution_count": 4,
   "metadata": {},
   "outputs": [],
   "source": [
    "U = NestedField(\"U\", [U1, U2])\n",
    "V = NestedField(\"V\", [V1, V2])\n",
    "fieldset = FieldSet(U, V)"
   ]
  },
  {
   "cell_type": "code",
   "execution_count": 5,
   "metadata": {},
   "outputs": [
    {
     "name": "stderr",
     "output_type": "stream",
     "text": [
      "INFO: Compiled ArrayJITParticleAdvectionRK4 ==> /var/folders/1n/500ln6w97859_nqq86vwpl000000gr/T/parcels-504/lib20aea2528fb6da02555bff5350a9be5e_0.so\n"
     ]
    },
    {
     "data": {
      "image/png": "[encoded data removed]",
      "text/plain": [
       "<Figure size 640x480 with 1 Axes>"
      ]
     },
     "metadata": {},
     "output_type": "display_data"
    }
   ],
   "source": [
    "pset = ParticleSet(fieldset, pclass=JITParticle, lon=[0], lat=[1000])\n",
    "output_file = pset.ParticleFile(name=\"NestedFieldParticle.zarr\", outputdt=50)\n",
    "pset.execute(AdvectionRK4, runtime=14000, dt=10, output_file=output_file)\n",
    "\n",
    "plt = plotTrajectoriesFile(\"NestedFieldParticle.zarr\", show_plt=False)\n",
    "plt.plot([0, 2e3, 2e3, 0, 0], [0, 0, 2e3, 2e3, 0], c=\"orange\")\n",
    "plt.plot([-2e3, 18e3, 18e3, -2e3, -2e3], [-1e3, -1e3, 3e3, 3e3, -1e3], c=\"green\");"
   ]
  },
  {
   "attachments": {},
   "cell_type": "markdown",
   "metadata": {},
   "source": [
    "As we observe, there is a change of dynamic at lon=2000, which corresponds to the change of grid.\n",
    "\n",
    "The analytical solution to the problem:\n",
    "\n",
    "\\begin{align}\n",
    "dx/dt &= 1;\\\\\n",
    "dy/dt &= \\cos(x \\pi/400);\\\\\n",
    "\\text{with } x(0) &= 0, y(0) = 1000\n",
    "\\end{align}\n",
    "\n",
    "is\n",
    "\n",
    "\\begin{align}\n",
    "x(t) &= t;\\\\\n",
    "y(t) &= 1000 + 400/\\pi \\sin(t \\pi / 400)\n",
    "\\end{align}\n",
    "\n",
    "which is captured by the High Resolution field (orange area) but not the Low Resolution one (green area).\n"
   ]
  },
  {
   "attachments": {},
   "cell_type": "markdown",
   "metadata": {},
   "source": [
    "## Keep track of the field interpolated\n",
    "\n",
    "For different reasons, you may want to keep track of the field you have interpolated. You can do that easily by creating another field that share the grid with original fields.\n",
    "Watch out that this operation has a cost of a full interpolation operation.\n"
   ]
  },
  {
   "cell_type": "code",
   "execution_count": 6,
   "metadata": {},
   "outputs": [],
   "source": [
    "# Need to redefine fieldset because FieldSets need to be constructed before ParticleSets\n",
    "fieldset = FieldSet(U, V)\n",
    "\n",
    "ones_array1 = np.ones((U1.grid.ydim, U1.grid.xdim), dtype=np.float32)\n",
    "F1 = Field(\"F1\", ones_array1, grid=U1.grid)\n",
    "\n",
    "ones_array2 = np.ones((U2.grid.ydim, U2.grid.xdim), dtype=np.float32)\n",
    "F2 = Field(\"F2\", 2 * ones_array2, grid=U2.grid)\n",
    "\n",
    "F = NestedField(\"F\", [F1, F2])\n",
    "fieldset.add_field(F)"
   ]
  },
  {
   "cell_type": "code",
   "execution_count": 7,
   "metadata": {},
   "outputs": [
    {
     "name": "stderr",
     "output_type": "stream",
     "text": [
      "INFO: Compiled ArraySampleParticleSampleNestedFieldIndex ==> /var/folders/1n/500ln6w97859_nqq86vwpl000000gr/T/parcels-504/libbc5ee8574ec73c9942f658d0bfec113c_0.so\n",
      "WARNING: dt or runtime are zero, or endtime is equal to Particle.time. The kernels will be executed once, without incrementing time\n"
     ]
    },
    {
     "name": "stdout",
     "output_type": "stream",
     "text": [
      "Particle (1000, 500) interpolates Field #1\n",
      "Particle (10000, 500) interpolates Field #2\n"
     ]
    }
   ],
   "source": [
    "from parcels import Variable\n",
    "\n",
    "\n",
    "def SampleNestedFieldIndex(particle, fieldset, time):\n",
    "    particle.f = fieldset.F[time, particle.depth, particle.lat, particle.lon]\n",
    "\n",
    "\n",
    "class SampleParticle(JITParticle):\n",
    "    f = Variable(\"f\", dtype=np.int32)\n",
    "\n",
    "\n",
    "pset = ParticleSet(fieldset, pclass=SampleParticle, lon=[1000], lat=[500])\n",
    "pset.execute(SampleNestedFieldIndex, runtime=0, dt=0)\n",
    "print(\n",
    "    f\"Particle ({pset[0].lon:g}, {pset[0].lat:g}) interpolates Field #{int(pset[0].f)}\"\n",
    ")\n",
    "\n",
    "pset[0].lon = 10000\n",
    "pset.execute(SampleNestedFieldIndex, runtime=0, dt=0)\n",
    "print(\n",
    "    f\"Particle ({pset[0].lon:g}, {pset[0].lat:g}) interpolates Field #{int(pset[0].f)}\"\n",
    ")"
   ]
  }
 ],
 "metadata": {
  "kernelspec": {
   "display_name": "Python 3",
   "language": "python",
   "name": "python3"
  },
  "language_info": {
   "codemirror_mode": {
    "name": "ipython",
    "version": 3
   },
   "file_extension": ".py",
   "mimetype": "text/x-python",
   "name": "python",
   "nbconvert_exporter": "python",
   "pygments_lexer": "ipython3",
   "version": "3.8.13"
  }
 },
 "nbformat": 4,
 "nbformat_minor": 2
}
