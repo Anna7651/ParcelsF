{
 "cells": [
  {
   "cell_type": "markdown",
   "metadata": {},
   "source": [
    "## Tutorial on efficient sample kernel"
   ]
  },
  {
   "cell_type": "markdown",
   "metadata": {},
   "source": [
    "The particle trajectories allow us to study Eulerian fields like temperature, plastic concentration or chlorofyll from a Lagrangian perspective. In this tutorial we will go through how particles can sample the underlying temperature fields. Along the way we will get to know the parcels class `Variable` and some of its methods. We import these modules as well as the standard modules needed to set up a simulation."
   ]
  },
  {
   "cell_type": "code",
   "execution_count": 1,
   "metadata": {},
   "outputs": [],
   "source": [
    "from parcels import FieldSet, ParticleSet, JITParticle, Variable, AdvectionRK4\n",
    "import numpy as np\n",
    "from datetime import timedelta as delta"
   ]
  },
  {
   "cell_type": "markdown",
   "metadata": {},
   "source": [
    "We will advect particles through the example dataset Peninsula and want to look at the temperature (`T`) of the water along the trajectory. Besides the velocity fields, we load the temperature field using `extra_fields={'T': 'T'}`."
   ]
  },
  {
   "cell_type": "code",
   "execution_count": 2,
   "metadata": {},
   "outputs": [],
   "source": [
    "fieldset = FieldSet.from_parcels(\"Peninsula_data/peninsula\", extra_fields={'T': 'T'}, allow_time_extrapolation=True)"
   ]
  },
  {
   "cell_type": "markdown",
   "metadata": {},
   "source": [
    "To sample the temperature field, we need to create a new class of particles where temperature is a `Variable`. As an argument for the `Variable` class, we need to provide the initial values for the particles. The easiest option is to access `fieldset.T`."
   ]
  },
  {
   "cell_type": "code",
   "execution_count": 3,
   "metadata": {},
   "outputs": [
    {
     "name": "stderr",
     "output_type": "stream",
     "text": [
      "WARNING: Particle initialisation from field can be very slow as it is computed in scipy mode.\n"
     ]
    }
   ],
   "source": [
    "npart = 10  # number of particles to be released\n",
    "lon = 3e3 * np.ones(npart)\n",
    "lat = np.linspace(3e3 , 45e3, npart, dtype=np.float32)\n",
    "time = np.arange(0, npart) * delta(hours=1).total_seconds()  # release every particle one hour later\n",
    "\n",
    "\n",
    "class SampleParticle(JITParticle):         # Define a new particle class\n",
    "    temperature = Variable('temperature', initial=fieldset.T)  # Variable 'temperature' initialised by sampling the temperature\n",
    "\n",
    "pset = ParticleSet(fieldset=fieldset, pclass=SampleParticle, lon=lon, lat=lat, time=time)"
   ]
  },
  {
   "cell_type": "markdown",
   "metadata": {},
   "source": [
    "Using `fieldset.T` leads to the `WARNING` displayed above because `Variable` accesses the fieldset in the slower SciPy mode. Another problem can occur when using the repeatdt argument instead of time:"
   ]
  },
  {
   "cell_type": "code",
   "execution_count": 4,
   "metadata": {},
   "outputs": [
    {
     "ename": "TypeError",
     "evalue": "ufunc 'isnan' not supported for the input types, and the inputs could not be safely coerced to any supported types according to the casting rule ''safe''",
     "output_type": "error",
     "traceback": [
      "\u001b[1;31m---------------------------------------------------------------------------\u001b[0m",
      "\u001b[1;31mTypeError\u001b[0m                                 Traceback (most recent call last)",
      "\u001b[1;32m<ipython-input-4-ecbf3d1594d7>\u001b[0m in \u001b[0;36m<module>\u001b[1;34m()\u001b[0m\n\u001b[0;32m      8\u001b[0m     \u001b[0mtemperature\u001b[0m \u001b[1;33m=\u001b[0m \u001b[0mVariable\u001b[0m\u001b[1;33m(\u001b[0m\u001b[1;34m'temperature'\u001b[0m\u001b[1;33m,\u001b[0m \u001b[0minitial\u001b[0m\u001b[1;33m=\u001b[0m\u001b[0mfieldset\u001b[0m\u001b[1;33m.\u001b[0m\u001b[0mT\u001b[0m\u001b[1;33m)\u001b[0m  \u001b[1;31m# Variable 'temperature' initialised by sampling the temperature\u001b[0m\u001b[1;33m\u001b[0m\u001b[1;33m\u001b[0m\u001b[0m\n\u001b[0;32m      9\u001b[0m \u001b[1;33m\u001b[0m\u001b[0m\n\u001b[1;32m---> 10\u001b[1;33m \u001b[0mpset\u001b[0m \u001b[1;33m=\u001b[0m \u001b[0mParticleSet\u001b[0m\u001b[1;33m(\u001b[0m\u001b[0mfieldset\u001b[0m\u001b[1;33m=\u001b[0m\u001b[0mfieldset\u001b[0m\u001b[1;33m,\u001b[0m \u001b[0mpclass\u001b[0m\u001b[1;33m=\u001b[0m\u001b[0mSampleParticle\u001b[0m\u001b[1;33m,\u001b[0m \u001b[0mlon\u001b[0m\u001b[1;33m=\u001b[0m\u001b[0mlon\u001b[0m\u001b[1;33m,\u001b[0m \u001b[0mlat\u001b[0m\u001b[1;33m=\u001b[0m\u001b[0mlat\u001b[0m\u001b[1;33m,\u001b[0m \u001b[0mrepeatdt\u001b[0m\u001b[1;33m=\u001b[0m\u001b[0mrepeatdt\u001b[0m\u001b[1;33m)\u001b[0m\u001b[1;33m\u001b[0m\u001b[1;33m\u001b[0m\u001b[0m\n\u001b[0m",
      "\u001b[1;32mC:\\Users\\Gebruiker\\anaconda3\\envs\\py3_parcels\\lib\\site-packages\\parcels\\particleset.py\u001b[0m in \u001b[0;36m__init__\u001b[1;34m(self, fieldset, pclass, lon, lat, depth, time, repeatdt, lonlatdepth_dtype, pid_orig, **kwargs)\u001b[0m\n\u001b[0;32m    257\u001b[0m                 \u001b[1;32mif\u001b[0m \u001b[0misinstance\u001b[0m\u001b[1;33m(\u001b[0m\u001b[0mv\u001b[0m\u001b[1;33m.\u001b[0m\u001b[0minitial\u001b[0m\u001b[1;33m,\u001b[0m \u001b[0mField\u001b[0m\u001b[1;33m)\u001b[0m\u001b[1;33m:\u001b[0m\u001b[1;33m\u001b[0m\u001b[1;33m\u001b[0m\u001b[0m\n\u001b[0;32m    258\u001b[0m                     \u001b[1;32mfor\u001b[0m \u001b[0mi\u001b[0m \u001b[1;32min\u001b[0m \u001b[0mrange\u001b[0m\u001b[1;33m(\u001b[0m\u001b[0mself\u001b[0m\u001b[1;33m.\u001b[0m\u001b[0msize\u001b[0m\u001b[1;33m)\u001b[0m\u001b[1;33m:\u001b[0m\u001b[1;33m\u001b[0m\u001b[1;33m\u001b[0m\u001b[0m\n\u001b[1;32m--> 259\u001b[1;33m                         \u001b[1;32mif\u001b[0m \u001b[0mnp\u001b[0m\u001b[1;33m.\u001b[0m\u001b[0misnan\u001b[0m\u001b[1;33m(\u001b[0m\u001b[0mtime\u001b[0m\u001b[1;33m[\u001b[0m\u001b[0mi\u001b[0m\u001b[1;33m]\u001b[0m\u001b[1;33m)\u001b[0m\u001b[1;33m:\u001b[0m\u001b[1;33m\u001b[0m\u001b[1;33m\u001b[0m\u001b[0m\n\u001b[0m\u001b[0;32m    260\u001b[0m                             raise RuntimeError('Cannot initialise a Variable with a Field if no time provided. '\n\u001b[0;32m    261\u001b[0m                                                'Add a \"time=\" to ParticleSet construction')\n",
      "\u001b[1;31mTypeError\u001b[0m: ufunc 'isnan' not supported for the input types, and the inputs could not be safely coerced to any supported types according to the casting rule ''safe''"
     ]
    }
   ],
   "source": [
    "npart = 10  # number of particles to be released\n",
    "lon = 3e3 * np.ones(npart)\n",
    "lat = np.linspace(3e3 , 45e3, npart, dtype=np.float32)\n",
    "repeatdt = delta(hours=3)\n",
    "\n",
    "\n",
    "class SampleParticle(JITParticle):         # Define a new particle class\n",
    "    temperature = Variable('temperature', initial=fieldset.T)  # Variable 'temperature' initialised by sampling the temperature\n",
    "\n",
    "pset = ParticleSet(fieldset=fieldset, pclass=SampleParticle, lon=lon, lat=lat, repeatdt=repeatdt)"
   ]
  },
  {
   "cell_type": "markdown",
   "metadata": {},
   "source": [
    "Since the initial time is not defined, the `Variable` class does not know at what time to access the temperature field."
   ]
  },
  {
   "cell_type": "markdown",
   "metadata": {},
   "source": [
    "The solution to this initialisation problem is to leave the initial value zero and sample the initial condition in JIT mode with the sampling Kernel:"
   ]
  },
  {
   "cell_type": "code",
   "execution_count": 3,
   "metadata": {},
   "outputs": [],
   "source": [
    "npart = 10  # number of particles to be released\n",
    "lon = 3e3 * np.ones(npart)\n",
    "lat = np.linspace(3e3 , 45e3, npart, dtype=np.float32)\n",
    "time = np.arange(0, npart) * delta(hours=3).total_seconds()  # release every particle one hour later\n",
    "\n",
    "\n",
    "class SampleParticle(JITParticle):         # Define a new particle class\n",
    "    temperature = Variable('temperature', initial=0)  # Variable 'temperature' initially zero\n",
    "\n",
    "pset = ParticleSet(fieldset=fieldset, pclass=SampleParticle, lon=lon, lat=lat, time=time)\n",
    "\n",
    "def SampleT(particle, fieldset, time):\n",
    "         particle.temperature = fieldset.T[time, particle.depth, particle.lat, particle.lon]\n",
    "sample_kernel = pset.Kernel(SampleT)    # Casting the SampleT function to a kernel."
   ]
  },
  {
   "cell_type": "markdown",
   "metadata": {},
   "source": [
    "To sample the initial values we can execute the Sample kernel over the entire particleset with dt = 0 so that time does not increase"
   ]
  },
  {
   "cell_type": "code",
   "execution_count": 4,
   "metadata": {},
   "outputs": [
    {
     "name": "stderr",
     "output_type": "stream",
     "text": [
      "INFO: Compiled SampleParticleSampleT ==> C:\\Users\\GEBRUI~1\\AppData\\Local\\Temp\\parcels-tmp\\f70993c32b854a755370b998c6baede0_0.dll\n",
      "WARNING: dt or runtime are zero, or endtime is equal to Particle.time. The kernels will be executed once, without incrementing time\n",
      "INFO: Compiled SampleParticleAdvectionRK4SampleT ==> C:\\Users\\GEBRUI~1\\AppData\\Local\\Temp\\parcels-tmp\\c7056ed257fade0512a7adad7ddf8bd4_0.dll\n"
     ]
    }
   ],
   "source": [
    "pset.execute(sample_kernel, dt=0) # by only executing the sample kernel we record the initial temperature of the particles\n",
    "\n",
    "output_file = pset.ParticleFile(name=\"InitialiseWithJIT.nc\", outputdt=delta(hours=1))\n",
    "pset.execute(AdvectionRK4 + sample_kernel, runtime=delta(hours=24), dt=delta(minutes=5),\n",
    "             output_file=output_file)\n",
    "output_file.export()  # export the trajectory data to a netcdf file"
   ]
  },
  {
   "cell_type": "markdown",
   "metadata": {},
   "source": [
    "In some simulations only the particles initial value within the field is of interest: the variable does not need to be known along the entire trajectory. To reduce computing we can specify the `to_write` argument to the temperature `Variable`. This argument can have three values: `True`, `False` or `'once'`. It determines whether to write the `Variable` to the output file. If we want to know only the initial value, we can enter `'once'` and only the first value will be written to the output file."
   ]
  },
  {
   "cell_type": "code",
   "execution_count": 9,
   "metadata": {},
   "outputs": [],
   "source": [
    "npart = 10  # number of particles to be released\n",
    "lon = 3e3 * np.ones(npart)\n",
    "lat = np.linspace(3e3 , 45e3, npart, dtype=np.float32)\n",
    "time = np.arange(0, npart) * delta(hours=3).total_seconds()  # release every particle one hour later"
   ]
  },
  {
   "cell_type": "code",
   "execution_count": 4,
   "metadata": {},
   "outputs": [],
   "source": [
    "class SampleParticle(JITParticle):         # Define a new particle class\n",
    "    temperature = Variable('temperature', initial=0, to_write='once')  # Variable 'p' initialised by sampling the pressure\n",
    "    \n",
    "pset = ParticleSet(fieldset=fieldset, pclass=SampleParticle, lon=lon, lat=lat, time=time)"
   ]
  },
  {
   "cell_type": "code",
   "execution_count": 7,
   "metadata": {},
   "outputs": [],
   "source": [
    "def SampleT(particle, fieldset, time): \n",
    "    particle.temperature = fieldset.T[time, particle.depth, particle.lat, particle.lon]\n",
    "sample_kernel = pset.Kernel(SampleT)    # Casting the SampleP function to a kernel."
   ]
  },
  {
   "cell_type": "code",
   "execution_count": 8,
   "metadata": {},
   "outputs": [
    {
     "name": "stderr",
     "output_type": "stream",
     "text": [
      "INFO: Compiled SampleParticleSampleT ==> C:\\Users\\GEBRUI~1\\AppData\\Local\\Temp\\parcels-tmp\\a3da9f6a0bd2bc7d1e9f9eff6297dbef_0.dll\n",
      "WARNING: dt or runtime are zero, or endtime is equal to Particle.time. The kernels will be executed once, without incrementing time\n",
      "INFO: Compiled SampleParticleAdvectionRK4SampleT ==> C:\\Users\\GEBRUI~1\\AppData\\Local\\Temp\\parcels-tmp\\7b8247647a16f27a9a8a4735cd916dc0_0.dll\n"
     ]
    }
   ],
   "source": [
    "pset.execute(sample_kernel, dt=0) # by only executing the sample kernel we record the initial temperature of the particles\n",
    "\n",
    "output_file = pset.ParticleFile(name=\"WriteOnce.nc\", outputdt=delta(hours=1))\n",
    "pset.execute(AdvectionRK4, runtime=delta(hours=24), dt=delta(minutes=5),\n",
    "             output_file=output_file)\n",
    "output_file.export()  # export the trajectory data to a netcdf file"
   ]
  }
 ],
 "metadata": {
  "kernelspec": {
   "display_name": "Python 3",
   "language": "python",
   "name": "python3"
  },
  "language_info": {
   "codemirror_mode": {
    "name": "ipython",
    "version": 3
   },
   "file_extension": ".py",
   "mimetype": "text/x-python",
   "name": "python",
   "nbconvert_exporter": "python",
   "pygments_lexer": "ipython3",
   "version": "3.6.11"
  }
 },
 "nbformat": 4,
 "nbformat_minor": 4
}
