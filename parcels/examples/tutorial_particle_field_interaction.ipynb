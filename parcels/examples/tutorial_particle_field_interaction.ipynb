{
 "cells": [
  {
   "cell_type": "markdown",
   "id": "202f4da1",
   "metadata": {},
   "source": [
    "# Particle-Field interaction example\n",
    "\n",
    "This notebook illustrates a simple way to make particles interact with a ``` Field```  object and modify it.\n",
    "\n",
    "The concept is similar to that of [Field sampling](https://nbviewer.jupyter.org/github/OceanParcels/parcels/blob/particle_interaction_prototype/parcels/examples/tutorial_sampling.ipynb): here instead, on top of reading the field value at their location, particles are able to alter it as defined in the ```Kernel```. To do this, it is important to keep in mind that:\n",
    "- Particles have to be defined as ```ScipyParticles```\n",
    "- ```Field``` values can be stored at the end of the run only, and not at each ```dt``` (at the moment — functionality in development)\n",
    "\n",
    "In this example, particles will carry a tracer and release it into a clean ```Field``` during their advection by surface currents. To show how can particles interact with a ```Field``` and alter it, the release of such tracer is modelled here with a discretized version of the mass transfer equation, defined as follows:\n",
    "\n",
    "\\begin{equation}\n",
    "\\Delta c_{particle}(t) = aC_{field}(t-1) - bc_{particle}(t-1)\n",
    "\\tag{1}\n",
    "\\label{1}\n",
    "\\end{equation}\n",
    "\n",
    "In Eq.1, $c_{particle}$ is the tracer concentration associated with the particle, $C_{field}$ is the tracer concentration in seawater at particle location, and $a$ and $b$ are weights that modulate the sorption of tracer from seawater and its desorption, respectively. \n",
    "\n",
    "Additionally to a relevant ```Kernel```, we will define a suitable particle class to store $c_{particle}$, as it is needed to solve Eq.1. \n"
   ]
  },
  {
   "cell_type": "markdown",
   "id": "c6d39d45",
   "metadata": {},
   "source": [
    "### Particle altering a Field during advection"
   ]
  },
  {
   "cell_type": "code",
   "execution_count": 1,
   "id": "b5f35c63",
   "metadata": {},
   "outputs": [
    {
     "name": "stderr",
     "output_type": "stream",
     "text": [
      "INFO: Compiled ParcelsRandom ==> C:\\Users\\CASAGR~1\\AppData\\Local\\Temp\\parcels-tmp\\libparcels_random_d63111b5-d6f8-4493-8874-fdc7158ed8a0.so\n"
     ]
    }
   ],
   "source": [
    "from parcels import Variable, Field, FieldSet, ParticleSet, ScipyParticle, AdvectionRK4, plotTrajectoriesFile\n",
    "\n",
    "import numpy as np\n",
    "from datetime import timedelta as delta\n",
    "import netCDF4"
   ]
  },
  {
   "cell_type": "markdown",
   "id": "068921eb",
   "metadata": {},
   "source": [
    "In this specific example, particles will be advected by surface ocean velocities stored in netCDF files in the folder ```GlobCurrent_example_data```. We will store these in a ```FieldSet``` object, and then add a ```Field``` to it to represent the tracer field. This latter field will be initialized with zeroes, as we assume that this tracer is absent on the ocean surface and released by particles only.\n"
   ]
  },
  {
   "cell_type": "code",
   "execution_count": 2,
   "id": "a64ed4f0",
   "metadata": {},
   "outputs": [
    {
     "name": "stderr",
     "output_type": "stream",
     "text": [
      "WARNING: Casting lon data to np.float32\n",
      "WARNING: Casting lat data to np.float32\n",
      "WARNING: Casting depth data to np.float32\n",
      "WARNING: Casting field data to np.float32\n"
     ]
    }
   ],
   "source": [
    "# Velocity fields\n",
    "fname = r'GlobCurrent_example_data/*.nc'\n",
    "filenames = {'U': fname, 'V': fname}\n",
    "variables = {'U': 'eastward_eulerian_current_velocity', 'V': 'northward_eulerian_current_velocity'}\n",
    "dimensions = {'U': {'lat': 'lat', 'lon': 'lon', 'time': 'time'},\n",
    "              'V': {'lat': 'lat', 'lon': 'lon', 'time': 'time'},\n",
    "             }              \n",
    "fieldset = FieldSet.from_netcdf(filenames, variables, dimensions)\n",
    "\n",
    "# In order to assign the same grid to the tracer field, it is convenient to load a single velocity file\n",
    "fname1 = r'GlobCurrent_example_data/20030101000000-GLOBCURRENT-L4-CUReul_hs-ALT_SUM-v02.0-fv01.0.nc'\n",
    "filenames1 = {'U': fname1, 'V': fname1}\n",
    "\n",
    "field_for_size = FieldSet.from_netcdf(filenames1, variables, dimensions) # this field has the same variables and dimensions as the other velocity fields\n",
    "\n",
    "# Adding the tracer field to the FieldSet\n",
    "dimsC = [len(field_for_size.U.lat),len(field_for_size.U.lon)] # it has to have the same dimentions as the velocity fields\n",
    "dataC = np.zeros([dimsC[0],dimsC[1]])\n",
    "\n",
    "fieldC = Field('C', dataC, grid=field_for_size.U.grid) # the new Field will be called C, for tracer Concentration\n",
    "\n",
    "fieldset.add_field(fieldC) # C field added to the velocity FieldSet"
   ]
  },
  {
   "cell_type": "code",
   "execution_count": 3,
   "id": "22fa6745",
   "metadata": {},
   "outputs": [
    {
     "data": {
      "image/png": "[encoded data removed]",
      "text/plain": [
       "<Figure size 432x288 with 2 Axes>"
      ]
     },
     "metadata": {
      "needs_background": "light"
     },
     "output_type": "display_data"
    }
   ],
   "source": [
    "fieldset.C.show() # our new C field has been added to the FieldSet"
   ]
  },
  {
   "cell_type": "markdown",
   "id": "6caf2eb7",
   "metadata": {},
   "source": [
    "Some global parameters have to be defined, such as $a$ and $b$ of Eq.1, and a weight that works as a conversion factor from $\\Delta c_{particle}$ to $C_{field}$. \n",
    "We will add these parameters to the ```FieldSet```."
   ]
  },
  {
   "cell_type": "code",
   "execution_count": 4,
   "id": "54ec0e6f",
   "metadata": {},
   "outputs": [],
   "source": [
    "fieldset.add_constant('a', 10) \n",
    "fieldset.add_constant('b', .2) \n",
    "fieldset.add_constant('weight', .01) "
   ]
  },
  {
   "cell_type": "markdown",
   "id": "470c2e80",
   "metadata": {},
   "source": [
    "We will now define a new particle class. A ```VectorParticle``` is a ```ScipyParticle``` having a ```Variable``` to store the current tracer concentration ```c``` associated with it. As in this case we want our particles to release a tracer into a clean field, we will initialize ```c``` with an arbitrary value of `100`.\n",
    "\n",
    "We also need to define the ```Kernel``` that performs the particle-field interaction. In this Kernel, we will implement Eq.1, so that $\\Delta c_{particle}$ can be used to update $c_{particle}$ and $C_{field}$ at the particle location, and thus get their values at the current time $t$.\n"
   ]
  },
  {
   "cell_type": "code",
   "execution_count": 5,
   "id": "203a82eb",
   "metadata": {},
   "outputs": [],
   "source": [
    "class VectorParticle(ScipyParticle):\n",
    "    c = Variable('c', dtype=np.float32, initial=100.) # particle concentration c is initialized with a non-zero value\n",
    "    \n",
    "    \n",
    "def Exchange(particle, fieldset, time):\n",
    "    deltaC = (fieldset.a*fieldset.C[particle]-fieldset.b*particle.c) # the exchange is obtained as a discretized mass transfer equation\n",
    "    particle.c += deltaC\n",
    "    fieldset.C.data[particle.ti,particle.yi,particle.xi] += -deltaC*fieldset.weight # weight, defined as a constant for the FieldSet, acts here as a conversion factor between c_particle and C_field\n",
    "\n",
    "    \n",
    "pset = ParticleSet(fieldset=fieldset, pclass=VectorParticle, lon=[24.5], lat=[-34.8]) # for simplicity, we'll track a single particle here\n",
    "\n",
    "exchangeKernel = pset.Kernel(Exchange)"
   ]
  },
  {
   "cell_type": "markdown",
   "id": "2a6783bf",
   "metadata": {},
   "source": [
    "Two things are worth noticing in the code above:\n",
    "- The use of ```fieldset.C[particle]``` to obtain $C_{field}$ when calculating $\\Delta c_{particle}$\n",
    "- The update of $C_{field}$ through ```fieldset.C.data[particle.ti,particle.yi,particle.xi]``` \n",
    "\n",
    "Although they are accessing the same thing (the value of ```fieldset.C``` at particle location, i.e. $C_{field}(t-1)$), in the first point this is made through a field evaluation: in addition to returning the value of ```fieldset.C```, it updates the location indices (```ti```, ```yi```, and ```xi```) of ```pset```. The new indices are then used in the second point to access and modify the value of ```fieldset.C``` at the particle location, an operation that is only possible for ```ScipyParticles``` (and not for ```JITParticles```). \n"
   ]
  },
  {
   "cell_type": "code",
   "execution_count": 6,
   "id": "b96bafdb",
   "metadata": {},
   "outputs": [
    {
     "data": {
      "image/png": "[encoded data removed]",
      "text/plain": [
       "<Figure size 432x288 with 2 Axes>"
      ]
     },
     "metadata": {
      "needs_background": "light"
     },
     "output_type": "display_data"
    }
   ],
   "source": [
    "pset.show(field=fieldset.C) # Initial particle location and the tracer field C"
   ]
  },
  {
   "cell_type": "markdown",
   "id": "93994a91",
   "metadata": {},
   "source": [
    "Now we are going to execute the advection of the particle and the simultaneous release of the tracer it carries. We will thus add the ```Exchange``` Kernel defined above to the built-in Kernel ```AdvectionRK4```:"
   ]
  },
  {
   "cell_type": "code",
   "execution_count": 7,
   "id": "d20fcba8",
   "metadata": {},
   "outputs": [],
   "source": [
    "output_file = pset.ParticleFile(name='exchange.nc', outputdt=delta(days=1))\n",
    "\n",
    "pset.execute(AdvectionRK4 + exchangeKernel,     \n",
    "             dt=delta(days=1),\n",
    "             runtime=delta(days=25), # we are going to track the particle and save its trajectory and tracer concentration for 25 days\n",
    "             output_file = output_file)\n",
    "\n",
    "output_file.close()"
   ]
  },
  {
   "cell_type": "markdown",
   "id": "42182927",
   "metadata": {},
   "source": [
    "We can see that $c_{particle}$ has been saved along with particle trajectory, as expected."
   ]
  },
  {
   "cell_type": "code",
   "execution_count": 8,
   "id": "a6d869e8",
   "metadata": {},
   "outputs": [
    {
     "name": "stdout",
     "output_type": "stream",
     "text": [
      "[[100.          80.          64.          51.2         41.670578\n",
      "   34.029205    27.729557    22.651283    18.389206    15.009227\n",
      "   12.286391    10.18622      8.636798     7.034813     5.637848\n",
      "    4.510278     3.6784637    2.9847028    2.3918066    1.9134452\n",
      "    1.5341984    1.2273587    0.981887     0.78552765   0.63926834\n",
      "    0.5360086 ]]\n"
     ]
    },
    {
     "data": {
      "image/png": "[encoded data removed]",
      "text/plain": [
       "<Figure size 432x288 with 1 Axes>"
      ]
     },
     "metadata": {
      "needs_background": "light"
     },
     "output_type": "display_data"
    }
   ],
   "source": [
    "pset_traj = netCDF4.Dataset(r'exchange.nc')\n",
    "\n",
    "print(pset_traj['c'][:])\n",
    "\n",
    "plotTrajectoriesFile('exchange.nc');"
   ]
  },
  {
   "cell_type": "markdown",
   "id": "3fcc6dca",
   "metadata": {},
   "source": [
    "But what about ```fieldset.C```? We can see that it has been accordingly modified during particle motion:"
   ]
  },
  {
   "cell_type": "code",
   "execution_count": null,
   "id": "184d6860",
   "metadata": {},
   "outputs": [],
   "source": [
    "c_results = fieldset.C.data[0,:,:].copy() # Copying the final field data in a new array\n",
    "c_results[[field_for_size.U.data==0][0][0]]= np.nan # using a mask for fieldset.C.data on land\n",
    "c_results[c_results==0] = np.nan # masking the field where its value is zero -- areas that have not been modified by the particle, for clearer plotting\n",
    "    \n",
    "\n",
    "\n",
    "try: # Works if Cartopy is installed\n",
    "    import cartopy\n",
    "    import cartopy.crs as ccrs\n",
    "    import matplotlib.pyplot as plt\n",
    "    extent = [10, 33, -37, -29]\n",
    "    X = fieldset.U.lon\n",
    "    Y = fieldset.U.lat\n",
    "\n",
    "    plt.subplots(1,1,figsize=(12, 6))\n",
    "    ax = plt.axes(projection=ccrs.Mercator())\n",
    "    ax.set_extent(extent)\n",
    "\n",
    "    ax.add_feature(cartopy.feature.OCEAN, facecolor='lightgrey')\n",
    "    ax.add_feature(cartopy.feature.LAND, edgecolor='black', facecolor='floralwhite')\n",
    "    gl=ax.gridlines(xlocs = np.linspace(10,34,13) , ylocs=np.linspace(-29,-37,9),draw_labels=True)\n",
    "    gl.right_labels = False\n",
    "    gl.bottom_labels = False\n",
    "\n",
    "    xx, yy = np.meshgrid(X,Y)\n",
    "\n",
    "    plt.pcolormesh(xx,yy,(c_results),transform=ccrs.PlateCarree(),vmin=0,)\n",
    "    cbar=plt.colorbar(ax=ax)\n",
    "    cbar.ax.text(.8,.070,'$C_{field}$ concentration', rotation=270, fontsize=12)\n",
    "    \n",
    "except:\n",
    "    print('Please install the Cartopy package.')"
   ]
  },
  {
   "cell_type": "markdown",
   "id": "52a42fbe",
   "metadata": {},
   "source": [
    "When looking at tracer concentrations, we see that $c_{particle}$ decreases along it trajectory (right to left), as it is releasing the tracer it carries. Accordingly, values of $C_{field}$ provided by particle interaction progressively reduce along the particle's route.\n",
    "\n",
    "Notice that the first particle-field interaction occurs at time $t = 1$, and namely after the execution of the first step of ```AdvectionRK4```, as shown by the unaltered field value at the particle's starting location."
   ]
  },
  {
   "cell_type": "code",
   "execution_count": null,
   "id": "e2ce3270",
   "metadata": {},
   "outputs": [],
   "source": [
    "x_centers, y_centers = np.meshgrid(fieldset.U.lon, fieldset.U.lat)\n",
    "\n",
    "fig,ax = plt.subplots(1,1,figsize=(10,6),constrained_layout=True)\n",
    "ax.set_facecolor('lightgrey') # For visual coherence with the plot above\n",
    "\n",
    "fieldplot=ax.pcolormesh(x_centers[-28:-17,22:41],y_centers[-28:-17,22:41],c_results[-28:-18,22:40], vmin=0, vmax=0.2,cmap='viridis') \n",
    "# Zoom on the area of interest\n",
    "field_cbar = plt.colorbar(fieldplot,ax=ax)\n",
    "field_cbar.ax.text(.6,.070,'$C_{field}$ concentration', rotation=270, fontsize=12)\n",
    "\n",
    "particle = plt.scatter(pset_traj['lon'][:].data[0,:],pset_traj['lat'][:].data[0,:], c=pset_traj['c'][:].data[0,:],vmin=0, s=100, edgecolor='black')  \n",
    "particle_cbar = plt.colorbar(particle,ax=ax, location = 'top')\n",
    "particle_cbar.ax.text(40,300,'$c_{particle}$ concentration', fontsize=12)\n",
    "\n"
   ]
  }
 ],
 "metadata": {
  "kernelspec": {
   "display_name": "Python 3",
   "language": "python",
   "name": "python3"
  },
  "language_info": {
   "codemirror_mode": {
    "name": "ipython",
    "version": 3
   },
   "file_extension": ".py",
   "mimetype": "text/x-python",
   "name": "python",
   "nbconvert_exporter": "python",
   "pygments_lexer": "ipython3",
   "version": "3.6.13"
  }
 },
 "nbformat": 4,
 "nbformat_minor": 5
}
