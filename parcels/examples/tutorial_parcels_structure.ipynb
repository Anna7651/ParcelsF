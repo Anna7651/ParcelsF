{
 "cells": [
  {
   "cell_type": "markdown",
   "metadata": {},
   "source": [
    "# High-level parcels structure tutorial"
   ]
  },
  {
   "cell_type": "markdown",
   "metadata": {},
   "source": [
    "There are many different ways in which to use Parcels for research. Many different configurations, multiple files in different formats, kernels written for specific field configurations or specific particle configurations and kernels that only work in combination with other kernels. The flexibility of the parcels code enables this wide range of applicability, but can also make your code messy which increases the chance of bugs. For a smooth programming experience with Parcels, it is recommended you make a general structure in setting up your simulations. A good practice is to separate the different parts of your code into sections:\n",
    "1. [**FieldSet**](#FieldSet). Load and set up the (velocity) fields that your particles need to access\n",
    "2. [**ParticleSet**](#ParticleSet). Define the type of particles you want to release, what `Variables` they have and what their initial conditions are\n",
    "3. [**Execute kernels**](#Kernel-execution). Define and compile the kernels that say what your particles need to do each timestep and execute them\n",
    "4. [**Output**](#Output). Write and store the output to a netcdf file. What you can do with the output in terms of analysis is documented [**here**](https://nbviewer.jupyter.org/github/OceanParcels/parcels/blob/master/parcels/examples/tutorial_output.ipynb)"
   ]
  },
  {
   "cell_type": "markdown",
   "metadata": {},
   "source": [
    "The [parcels tutorial](https://nbviewer.jupyter.org/github/OceanParcels/parcels/blob/master/parcels/examples/parcels_tutorial.ipynb) shows a very basic example of this setup, altough it is spread over multiple cells with text in between:"
   ]
  },
  {
   "cell_type": "code",
   "execution_count": 4,
   "metadata": {},
   "outputs": [
    {
     "name": "stderr",
     "output_type": "stream",
     "text": [
      "INFO: Compiled JITParticleAdvectionRK4 ==> C:\\Users\\GEBRUI~1\\AppData\\Local\\Temp\\parcels-tmp\\defb7bc275d58865cd007ea8f826f558_0.dll\n"
     ]
    }
   ],
   "source": [
    "from parcels import FieldSet, ParticleSet, JITParticle, AdvectionRK4\n",
    "\n",
    "# 1. Setting up the velocity fields in a FieldSet object\n",
    "\n",
    "fieldset = FieldSet.from_parcels(\"MovingEddies_data/moving_eddies\")\n",
    "\n",
    "\n",
    "# 2. Defining the particles type and initial conditions in a ParticleSet object\n",
    "\n",
    "pset = ParticleSet.from_list(fieldset=fieldset,   # the fields on which the particles are advected\n",
    "                             pclass=JITParticle,  # the type of particles (JITParticle or ScipyParticle)\n",
    "                             lon=[3.3e5,  3.3e5], # a vector of release longitudes \n",
    "                             lat=[1e5, 2.8e5])    # a vector of release latitudes\n",
    "\n",
    "\n",
    "# 3. Executing an advection kernel on the given fieldset\n",
    "\n",
    "output_file = pset.ParticleFile(name=\"EddyParticles.nc\", outputdt=3600) # the file name and the time step of the outputs\n",
    "pset.execute(AdvectionRK4,                 # the kernel (which defines how particles move)\n",
    "             runtime=86400*6,              # the total length of the run\n",
    "             dt=300,                       # the timestep of the kernel\n",
    "             output_file=output_file)\n",
    "\n",
    "\n",
    "# 4. Exporting the simulation output to a netcdf file\n",
    "\n",
    "output_file.export()"
   ]
  },
  {
   "cell_type": "markdown",
   "metadata": {},
   "source": [
    "When you start making the parcels simulation more complex, it is a good idea to keep these different steps separate to keep a clear overview and find bugs more easily"
   ]
  },
  {
   "cell_type": "markdown",
   "metadata": {},
   "source": [
    "# FieldSet"
   ]
  },
  {
   "cell_type": "markdown",
   "metadata": {},
   "source": [
    "Parcels provides a framework to simulate the movement of particles **within an existing flowfield environment**. To start a parcels simulation we must define this environment with the [**`FieldSet`** class](https://oceanparcels.org/gh-pages/html/#module-parcels.fieldset). The minimal requirements for this Fieldset are that it must contain the `'U'` and `'V'` fields: the 2D hydrodynamic data that will move the particles. "
   ]
  },
  {
   "cell_type": "markdown",
   "metadata": {},
   "source": [
    "The general method to use is [**`FieldSet.from_netcdf`**](https://oceanparcels.org/gh-pages/html/#parcels.fieldset.FieldSet.from_netcdf), which requires `filenames`, `variables` and `dimensions`. Each of these is a dictionary, and `variables` requires at least a `U` and `V`, but any other `variable` can be added too (e.g. temperature, mixedlayerdepth, etc). Note also that `filenames` can contain wildcards. For example, the GlobCurrent data that is shipped with Parcels can be read with: "
   ]
  },
  {
   "cell_type": "code",
   "execution_count": 6,
   "metadata": {},
   "outputs": [
    {
     "name": "stderr",
     "output_type": "stream",
     "text": [
      "WARNING: Casting lon data to np.float32\n",
      "WARNING: Casting lat data to np.float32\n",
      "WARNING: Casting depth data to np.float32\n",
      "WARNING: Trying to initialize a shared grid with different chunking sizes - action prohibited. Replacing requested field_chunksize with grid's master chunksize.\n"
     ]
    }
   ],
   "source": [
    "fname = 'GlobCurrent_example_data/*.nc'\n",
    "filenames = {'U': fname, 'V': fname}\n",
    "variables = {'U': 'eastward_eulerian_current_velocity', 'V': 'northward_eulerian_current_velocity'}\n",
    "dimensions = {'lat': 'lat', 'lon': 'lon', 'time': 'time'}\n",
    "fset = FieldSet.from_netcdf(filenames, variables, dimensions)"
   ]
  },
  {
   "cell_type": "markdown",
   "metadata": {},
   "source": [
    "Note that `dimensions` can also be a dictionary-of-dictionaries. For example, if you have wind data on a completely different grid, you can do:"
   ]
  },
  {
   "cell_type": "code",
   "execution_count": null,
   "metadata": {},
   "outputs": [],
   "source": [
    "fname = 'GlobCurrent_example_data/*.nc'\n",
    "wname = 'path_to_your_windfiles'\n",
    "filenames = {'U': fname, 'V': fname, 'wind': wname}\n",
    "variables = {'U': 'eastward_eulerian_current_velocity', 'V': 'northward_eulerian_current_velocity', 'wind': 'wind'}\n",
    "dimensions = {}\n",
    "dimensions['U'] = {'lat': 'lat', 'lon': 'lon', 'depth': 'depth', 'time': 'time'}\n",
    "dimensions['V'] = {'lat': 'lat', 'lon': 'lon', 'depth': 'depth', 'time': 'time'}\n",
    "dimensions['wind'] = {'lat': 'latw', 'lon': 'lonw', 'time': 'time'}\n",
    "fset = FieldSet.from_netcdf(filenames, variables, dimensions)"
   ]
  },
  {
   "cell_type": "markdown",
   "metadata": {},
   "source": [
    "In a similar way, you can add `U` and `V` fields that are on different grids (e.g. Arakawa C-grids). Parcels will take care under the hood that the different grids are dealt with properly."
   ]
  },
  {
   "cell_type": "markdown",
   "metadata": {},
   "source": [
    "# ParticleSet"
   ]
  },
  {
   "cell_type": "markdown",
   "metadata": {},
   "source": [
    "Once you have set up the environment with the FieldSet object, you can start defining your particles in a [**`ParticleSet`** object](https://oceanparcels.org/gh-pages/html/#module-parcels.particleset). This object requires the [**`FieldSet`**](https://oceanparcels.org/gh-pages/html/#module-parcels.fieldset) in which it exists, the type of [**`Particle`**](https://oceanparcels.org/gh-pages/html/#module-parcels.particle) which contains the information each particle will store and the initial conditions for each [**`Variable`**](https://oceanparcels.org/gh-pages/html/#parcels.particle.Variable) defined in the `Particle`, most notably the release locations in `lon` and `lat`."
   ]
  },
  {
   "cell_type": "code",
   "execution_count": 9,
   "metadata": {},
   "outputs": [],
   "source": [
    "pset = ParticleSet(fieldset=fieldset,   # the fields on which the particles are advected\n",
    "                   pclass=JITParticle,  # the type of particles (JITParticle or ScipyParticle)\n",
    "                   lon=3.3e5,           # release longitude\n",
    "                   lat=1e5)             # release latitude"
   ]
  },
  {
   "cell_type": "markdown",
   "metadata": {},
   "source": [
    "The different [**`Particle`**](https://oceanparcels.org/gh-pages/html/#module-parcels.particle) types available are the [**`JITParticle`**](https://oceanparcels.org/gh-pages/html/#parcels.particle.JITParticle) and the [**`ScipyParticle`**](https://oceanparcels.org/gh-pages/html/#parcels.particle.ScipyParticle), but it is very easy to create your own particle class which includes other [**`Variables`**](https://oceanparcels.org/gh-pages/html/#parcels.particle.Variable):"
   ]
  },
  {
   "cell_type": "code",
   "execution_count": 13,
   "metadata": {},
   "outputs": [],
   "source": [
    "from parcels import Variable\n",
    "\n",
    "class PressureParticle(JITParticle):         # Define a new particle class\n",
    "    p = Variable('p', initial=0)             # Variable 'p' with initial value 0."
   ]
  },
  {
   "cell_type": "markdown",
   "metadata": {},
   "source": [
    "# Kernel execution"
   ]
  },
  {
   "cell_type": "markdown",
   "metadata": {},
   "source": [
    "After defining the environment with `FieldSet` and the particle information with `ParticleSet`, we can move on to actually running the parcels simulation by using [**`ParticleSet.execute()`**](https://oceanparcels.org/gh-pages/html/#parcels.particleset.ParticleSet.execute). "
   ]
  },
  {
   "cell_type": "code",
   "execution_count": 14,
   "metadata": {},
   "outputs": [
    {
     "name": "stderr",
     "output_type": "stream",
     "text": [
      "INFO: Compiled JITParticleAdvectionRK4 ==> C:\\Users\\GEBRUI~1\\AppData\\Local\\Temp\\parcels-tmp\\fe0899895db2ee20d980323f5e2c6191_0.dll\n"
     ]
    }
   ],
   "source": [
    "output_file = pset.ParticleFile(name=\"EddyParticles.nc\", outputdt=3600) # the file name and the time step of the outputs\n",
    "pset.execute(AdvectionRK4,                 # the kernel (which defines how particles move)\n",
    "             runtime=86400*6,              # the total length of the run\n",
    "             dt=300,                       # the timestep of the kernel\n",
    "             output_file=output_file)"
   ]
  },
  {
   "cell_type": "markdown",
   "metadata": {},
   "source": [
    "One of the most powerful features of Parcels is the ability to write custom Kernels (see e.g. [this example](http://nbviewer.jupyter.org/github/OceanParcels/parcels/blob/master/parcels/examples/parcels_tutorial.ipynb#Adding-a-custom-behaviour-kernel) in the parcels tutorial). These Kernels are little snippets of code that get executed by Parcels, giving the ability to add 'behaviour' to particles."
   ]
  },
  {
   "cell_type": "markdown",
   "metadata": {},
   "source": [
    "However, there are some key limitations to the Kernels that everyone who wants to write their own should be aware of:\n",
    "* Every Kernel must be a function with the following (and only those) arguments: `(particle, fieldset, time)`\n",
    "* In order to run successfully in JIT mode, Kernel definitions can only contain the following types of commands:"
   ]
  },
  {
   "cell_type": "markdown",
   "metadata": {},
   "source": [
    "# Output"
   ]
  },
  {
   "cell_type": "markdown",
   "metadata": {},
   "source": [
    "While executing the `ParticleSet`, parcels stores the data in **npy** files in an output folder. To take all the data and store them in a netcdf file, you can use [**`ParticleFile.export()`**](https://oceanparcels.org/gh-pages/html/#parcels.particlefile.ParticleFile.export) if you want to keep the folder with npy files, or [**`ParticleFile.close()`**](https://oceanparcels.org/gh-pages/html/#parcels.particlefile.ParticleFile.close) if you only want to keep the netcdf file:"
   ]
  },
  {
   "cell_type": "code",
   "execution_count": null,
   "metadata": {},
   "outputs": [],
   "source": [
    "output_file.export()\n",
    "output_file.close()"
   ]
  }
 ],
 "metadata": {
  "kernelspec": {
   "display_name": "Python 3",
   "language": "python",
   "name": "python3"
  },
  "language_info": {
   "codemirror_mode": {
    "name": "ipython",
    "version": 3
   },
   "file_extension": ".py",
   "mimetype": "text/x-python",
   "name": "python",
   "nbconvert_exporter": "python",
   "pygments_lexer": "ipython3",
   "version": "3.6.11"
  }
 },
 "nbformat": 4,
 "nbformat_minor": 4
}
