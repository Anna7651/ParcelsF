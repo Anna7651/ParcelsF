{
 "cells": [
  {
   "cell_type": "markdown",
   "metadata": {},
   "source": [
    "## Tutorial on how to 'delay' the start of particle advection"
   ]
  },
  {
   "cell_type": "markdown",
   "metadata": {},
   "source": [
    "In many applications, it is needed to 'delay' the start of particle advection. For example because particles need to be released at different times throughout an experiment.\n",
    "\n",
    "The way to achieve this in Parcels is by using a combination of `pset.execute()` and `pset.add()` calls inside a `for`-loop.\n",
    "\n",
    "This tutorial will show how this can be done. We start with importing the relevant modules."
   ]
  },
  {
   "cell_type": "code",
   "execution_count": 1,
   "metadata": {
    "collapsed": true
   },
   "outputs": [],
   "source": [
    "from parcels import Grid, JITParticle\n",
    "from parcels import AdvectionRK4\n",
    "import numpy as np\n",
    "from datetime import timedelta as delta\n",
    "from scripts import *"
   ]
  },
  {
   "cell_type": "markdown",
   "metadata": {},
   "source": [
    "Now import a grid (from the Peninsula example, in this case)"
   ]
  },
  {
   "cell_type": "code",
   "execution_count": 2,
   "metadata": {
    "collapsed": true
   },
   "outputs": [],
   "source": [
    "grid = Grid.from_nemo('Peninsula_data/peninsula')"
   ]
  },
  {
   "cell_type": "markdown",
   "metadata": {},
   "source": [
    "Define an empty `ParticleSet`"
   ]
  },
  {
   "cell_type": "code",
   "execution_count": 3,
   "metadata": {
    "collapsed": false
   },
   "outputs": [],
   "source": [
    "pset = grid.ParticleSet(0, lon=[], lat=[], pclass=JITParticle)"
   ]
  },
  {
   "cell_type": "markdown",
   "metadata": {},
   "source": [
    "And now also define some other variables"
   ]
  },
  {
   "cell_type": "code",
   "execution_count": 4,
   "metadata": {
    "collapsed": true
   },
   "outputs": [],
   "source": [
    "npart = 10  # number of particles to be released\n",
    "delaytime = delta(hours=1)  # time between each particle release\n",
    "endtime = delta(hours=24)  # total time of the experiment"
   ]
  },
  {
   "cell_type": "markdown",
   "metadata": {},
   "source": [
    "We use the same start locations as in `examples/example_peninsula.py`"
   ]
  },
  {
   "cell_type": "code",
   "execution_count": 5,
   "metadata": {
    "collapsed": true
   },
   "outputs": [],
   "source": [
    "x = 3. * (1. / 1.852 / 60)  # 3 km offset from boundary\n",
    "y = (grid.U.lat[0] + x, grid.U.lat[-1] - x)  # latitude range, including offsets\n",
    "lat = np.linspace(y[0], y[1], npart, dtype=np.float32)"
   ]
  },
  {
   "cell_type": "markdown",
   "metadata": {},
   "source": [
    "Now we define an output file. Note that, since not each particle will have the same number of timesteps outputted (because some will be released later than others), we need to run with `type=\"indexed\"`. See also H3.5 at http://cfconventions.org/Data/cf-conventions/cf-conventions-1.7/build/aphs03.html"
   ]
  },
  {
   "cell_type": "code",
   "execution_count": 6,
   "metadata": {
    "collapsed": true
   },
   "outputs": [],
   "source": [
    "output_file = pset.ParticleFile(name=\"DelayParticle\", type=\"indexed\")"
   ]
  },
  {
   "cell_type": "markdown",
   "metadata": {},
   "source": [
    "Now we run the combination of `pset.add()` and `pset.execute()` calls inside a `for`-loop."
   ]
  },
  {
   "cell_type": "code",
   "execution_count": 7,
   "metadata": {
    "collapsed": false
   },
   "outputs": [
    {
     "name": "stdout",
     "output_type": "stream",
     "text": [
      "Compiled JITParticleAdvectionRK4 ==> /var/folders/r2/8593q8z93kd7t4j9kbb_f7p00000gn/T/parcels-501/8d4583bd4e9b01d643c0fddfd29f1080.so\n"
     ]
    }
   ],
   "source": [
    "for t in range(npart):\n",
    "    pset.add(JITParticle(lon=x, lat=lat[t], grid=grid))\n",
    "    pset.execute(AdvectionRK4,\n",
    "                 runtime=delaytime,  # note we execute only for 1 hour\n",
    "                 dt=delta(minutes=5),\n",
    "                 interval=delaytime,\n",
    "                 starttime=delaytime*t,  # note starttime is an hour later for each execute\n",
    "                 output_file=output_file)"
   ]
  },
  {
   "cell_type": "markdown",
   "metadata": {},
   "source": [
    "And then we run the particles for the rest of the time until `endtime`"
   ]
  },
  {
   "cell_type": "code",
   "execution_count": 8,
   "metadata": {
    "collapsed": false
   },
   "outputs": [],
   "source": [
    "pset.execute(AdvectionRK4, runtime=endtime-npart*delaytime,\n",
    "             starttime=delaytime*npart, dt=delta(minutes=5), interval=delta(hours=1),\n",
    "             output_file=output_file)"
   ]
  },
  {
   "cell_type": "markdown",
   "metadata": {},
   "source": [
    "Now, Parcels does not write the last timestep, so we need to write that explicitly at the end"
   ]
  },
  {
   "cell_type": "code",
   "execution_count": 9,
   "metadata": {
    "collapsed": false
   },
   "outputs": [],
   "source": [
    "output_file.write(pset, endtime)"
   ]
  },
  {
   "cell_type": "markdown",
   "metadata": {},
   "source": [
    "And then finally, we can show a movie of the particles. Note that one particle appears every frame for the first ten frames."
   ]
  },
  {
   "cell_type": "code",
   "execution_count": 10,
   "metadata": {
    "collapsed": false
   },
   "outputs": [
    {
     "data": {
      "text/html": [
       "<video width=\"600.0\" height=\"400.0\" controls autoplay loop>\n",
       "  <source type=\"video/mp4\" src=\"data:video/mp4;base64,AAAAHGZ0eXBNNFYgAAACAGlzb21pc28yYXZjMQAAAAhmcmVlAABNHW1kYXQAAAKhBgX//53cRem9\n",
       "5tlIt5Ys2CDZI+7veDI2NCAtIGNvcmUgMTQ4IC0gSC4yNjQvTVBFRy00IEFWQyBjb2RlYyAtIENv\n",
       "cHlsZWZ0IDIwMDMtMjAxNSAtIGh0dHA6Ly93d3cudmlkZW9sYW4ub3JnL3gyNjQuaHRtbCAtIG9w\n",
       "dGlvbnM6IGNhYmFjPTEgcmVmPTMgZGVibG9jaz0xOjA6MCBhbmFseXNlPTB4MzoweDExMyBtZT1o\n",
       "ZXggc3VibWU9NyBwc3k9MSBwc3lfcmQ9MS4wMDowLjAwIG1peGVkX3JlZj0xIG1lX3JhbmdlPTE2\n",
       "IGNocm9tYV9tZT0xIHRyZWxsaXM9MSA4eDhkY3Q9MSBjcW09MCBkZWFkem9uZT0yMSwxMSBmYXN0\n",
       "X3Bza2lwPTEgY2hyb21hX3FwX29mZnNldD0tMiB0aHJlYWRzPTEyIGxvb2thaGVhZF90aHJlYWRz\n",
       "PTIgc2xpY2VkX3RocmVhZHM9MCBucj0wIGRlY2ltYXRlPTEgaW50ZXJsYWNlZD0wIGJsdXJheV9j\n",
       "b21wYXQ9MCBjb25zdHJhaW5lZF9pbnRyYT0wIGJmcmFtZXM9MyBiX3B5cmFtaWQ9MiBiX2FkYXB0\n",
       "PTEgYl9iaWFzPTAgZGlyZWN0PTEgd2VpZ2h0Yj0xIG9wZW5fZ29wPTAgd2VpZ2h0cD0yIGtleWlu\n",
       "dD0yNTAga2V5aW50X21pbj0xMCBzY2VuZWN1dD00MCBpbnRyYV9yZWZyZXNoPTAgcmNfbG9va2Fo\n",
       "ZWFkPTQwIHJjPWNyZiBtYnRyZWU9MSBjcmY9MjMuMCBxY29tcD0wLjYwIHFwbWluPTAgcXBtYXg9\n",
       "NjkgcXBzdGVwPTQgaXBfcmF0aW89MS40MCBhcT0xOjEuMDAAgAAAEMJliIQAEP/+94G/MstfIrrJ\n",
       "cfnnfSyszzzkPHJdia640AAAAwAAAwABR4e1643dg1tJ0AAAGyOV2+kONwAJyT43FcoC4eSPH664\n",
       "ny1idcHbnK+BeZHuHZEErSefcmviqsuBLXNGb77WTyDnURLKhbT6uhEp/iHLDC3fJTyjhFoJsHTZ\n",
       "cwKCUWa/TMT19C8uB/h2fYjAy8YzqwqTpxcihB/LKyPPdsd5vAVUpSchhXZN0ihUyjL0f91GPMk6\n",
       "wKYrs6+EmO+PeiJQzySMA8nLdu+eRFhZTUiMi+sW3CmM6bTQio8vnBcJed90crokU3P1RZqmFXzU\n",
       "NTorgy2tLlrG+NxFr3HdIU/dbXJ+wfoE7wc3b87pjIP1NuOto8HiVdNC3w8sXuMlz6uMJ0nKXHDA\n",
       "0vgqB92kJgAf0WsJiiwCvzrWS0x4vSQHx5P2pMSjhpCsSbdw86ihC3gMj850gJLPN2PsZZAlaY+7\n",
       "JlSHgePiRqR8kGpe5q/XfxXBAM4Uy9PGdtx/i8zCoE6hL4jJP5IgJtrStmZsauwEJSAmz5R9YO/F\n",
       "Q/Ra0KM0h3Hop0Zzbx6GhG7RiewZtaVPHlB+05XIYhBT1h0nMNrfD1Anst3bOxzf6zgx0wWqXOMb\n",
       "BABhHSTtCc0Rebx1XWJ9dkU9jugEJXCHh9IV2+WGGJHdbZFyhFDzpZctYhjZI6MzTgLsszFcsig2\n",
       "NkqS8/PTvN44ZdHOkZA+2BRJleXadGfN7eSoxD7Tr1IMjakzHaDf4wENKnuWyf32whUogtxLLLzq\n",
       "mDs/wfNGe2j6DHtcj8aP92NClYAAWlOK1vwf4W7t2WAGwwx0msqbL+xo+E8QypGI5FZpTefulzGA\n",
       "K0SE7AhzsXMKmY6GYA/l0yXI+CC6ixorjsaUjgbgVO3lIhbrUxeT5DpHc7BR38WnZ3qUWrv9PK6u\n",
       "1tCjMpfCLcUe27Tql//O0oYL08skTt908JQgPMYvyvD932EoI+EEQb8kOiNlfXM2uOEjXm1Pxw0Z\n",
       "4rmAe9EQaSsBV3tNtL4FrMJXb/8su0Pcnz0i3WoZM6bjHM4o2xF4zsAl6QyimjDKuP1blvsEjvt/\n",
       "KTKpd+cxHOl6QIv0mFhQtb8NzrwFEAWNPDwHrTcL9TC3i54WtVHvVGsYYTKkniP/SNZHvBptk6cB\n",
       "krCeetNwPQcxss7ASoOHZ0ouYVrZk3JBPJUVNmmrDOrZK+MY5uOATJ3qWYcK2AOIHwxRHehV3SM7\n",
       "zxbk4B6VAGE/XWLgH13YmFaP+D99gQRieeXX8Q5b6rw5nwIS044gbCS8VabyyxnN2tHkb9ysPsoM\n",
       "5NKnBKSFU4woMR/gI44t3c1RXLsQjUAEesDtZkULXupJ9z3Nh7oWUe8KibW3gOvtXeVM7dxBNdLU\n",
       "vyx2V129yl/DiEpxg729GK86UHhxMguMsFzlAbEUvUfURqfDG0CvfD5ZtXYrz8u7ITPh4dgAABHs\n",
       "eCUkG31/dOyVSLzqqwWpvaZm6UHNmXkYZnf3H++fZR1YGVRQ6n8ApP45ItQ1xOkQi0mwlAXkWBtQ\n",
       "64oD2ua01fs7bkDhoSA28MHB1Sanni559xj6zdwHEcRchI02DK0e93uy422XlUJMURcef7vHksMX\n",
       "Vshz9CQjHjHAAVYzQ7WakywX7fCh6R4ZdZ3uX3bmm2PlR0CDNRpp+Sh7/kmPeOz9tlOo3m2x0M2Y\n",
       "R/WXd04Adk504PBjAiCj02K6gASehN5LitRQYiAAYwy+kwxcGdzV6MtMxglyss1bzxXMYAh3eOrl\n",
       "4kAwlEYTQUtkz6bqVIpenh46+tIHmg+hZWNJMhfvg8dEYoTCE1mtwDUoB8kW4+K5fMWovD3tCoD6\n",
       "LmRLHmbhyH3yFtCp99Iy0uVBFjL8TalXa+kiweZ/t8SyvTWPHPMGbdvXzfYJsDkTp3S0OImEznrS\n",
       "wPIb7deHNsRJGS4lNn6GcoRSJulxiIm2iCKiiOETRO3ecmeEW4TyvUTKX0A609ZH+qROCYWyJRtg\n",
       "GgGUFdfoy4BbpPzYuMOQT2+fZP3G4EUdIFojurjVuOunU6P0cAHcmu4z2bKEAxDOJQvRlMJH6oe8\n",
       "+Q+wCaFLrLWXtOR0uHqkgkLefqW7GwpWRW+neB+R1us9CHOCXzRRiGCxK4kYaHGQlgbmEYXWGTc0\n",
       "W2aoBmiwq77HIotRVjfTCBTgYlfkU3GCiNmtkHaApzzliH/M3QA/Fxlj3dlSP2gIXrgU9z4cSbbe\n",
       "Tll6PRLIQIDvul7+xevlHuleGwR74rbmNVjuY2A2C1Ty2o6iY8/W0n/95TAFkVN4Ap9mvE/2OLTy\n",
       "P5HvPLOsI9iD6/WlUEiyrWp9+Wfi78nohZ3asmTACALR8S1srR386PDcLd8rKH4nCJUYfhJypM9t\n",
       "FxpAp0eTkDnvXaOBBnnbxLUlYlSczuraHukO9/fvJBKsP+AkiZeX+eBsDVo4KEsVxUqD/0dmWPBN\n",
       "98QBBuSQlDSwuAHTYt+gvGXhiRxPafK6KXFY97c1vMTgVZ6D2rjZPVP1UZjPsWvtpGq0ToMhPrP0\n",
       "IY4v8mgORANr/eURrTfs/AoTnKvKxScg/AhXt1T6nR3GS0abyh6ifyJTBNEmE7vPW9WB4TSaYqYS\n",
       "5OPw+uY+aKxuBQrosI+23p51kCMp+mTDSWPIptXeabsTarm/rMaXmAUPemJ4gRBGZTxiiEi9oPlh\n",
       "jCFaLQlleCCGbaC/+DXBF3AFLawZyrXLFRW3+a/lyEOyxB5lIGE8GAHzEG1cBTzwRp83ZqP4hbkY\n",
       "8xJGdhTofn9dIOb8RL5peAE6Q3kTJ10C9zYcVYyeSv3bkACSoiTslEt/7ddlBXw06gfSovICl4AP\n",
       "Uk5NX0/+oG5w5V/URApna8CDZ/SigB+oIHYAVxK+XBBiwa5abPUXSMa4YFouW4mzfeFDi6mlbUS2\n",
       "qaLUxnMptIf1L58/3M2RYesENZBj8JwSFE9iccEYPczMduhVVB+nP6jW56KEBmUlBJOun+uqTQSA\n",
       "MmeQof1WUf18cLMNWEgIbry8IdKEYGL84fRDu4pa05nWDodwnVPiWdMkhbZUQairajqJjz9bUf/A\n",
       "yQ3nC/6PjWIMEqQpHIe9kZlsAs8hX0UinoY9ebH/7tGQbazdhiJox5+NP1Noa1QdeY4pstb3ZHt4\n",
       "cjltEuvOMZpXCS0/VcP3mhejM3QL/UivVfOzYdTuWOEQ1b+hmg5xhSRjEF73zaifAfHUpaWf7MWY\n",
       "qESqJWzW8I5oVY7Jg/qiGa0yLDpjAvmFEwdn9Aymh4GLU3sZV9S7HS1lMqV3nOUxKWHKpyWjwD/g\n",
       "qBKJWfvLUtBGNIOAtePE+iEJVQkSoIJkrvvNopzlzdEALgpYXfuZsGIaHsk7rjnZSczNW3hBpT3U\n",
       "2hoOL6HYCojCGrdLWrlXFEN7cKJw5PEGqpfdDaTs0O3moFZt/qIm5BeTXLz73IdmWBnm+/47Nw5b\n",
       "KQ/IoKwFFnTTtMp5GAriszZJPtU/ip63tOV3aB5vDZbZ7TeLsMVNUDGlvHhlJQRyWFBzGutnkCzA\n",
       "ObdVsLDn/ZIuql0wlDbKYIxBXBij8AEhDjrTVS6knw3AR1HpZWEDs0jSfvCZoAAAn+YxXIUX2mti\n",
       "MkJJsXGyCGMn2Wle8boYcf1t4NfWEpOaEl1Z/AIU9wtYknKKZVg76Yjrnog3Fxa5uJ4stDAldUVJ\n",
       "YvD6w/HYZSVczR7OesrtTdL/BBpNmY7yul+f5rBXjnc2BKBUfyJnb/3wUMBmM27naCb/7ManSwER\n",
       "swfpsD/3akXikrY2NW8wFRL82lITIE8OuyeBbPSH8l7e2HCD86lHdE0NOIF5yRzJ4UiXbt6rP8OC\n",
       "1niyE3z+ptd3t777hMx84g7z0eoYHf+BMCn/Zjm6kQS/+xLN4gLyjh5BfvACiEB+RJ3TkLXlCXrm\n",
       "IHV+n3D2hAkuevZT/7i0LUBNmT/ij8em9JpuK6tjay8xYW5UA2bC0kEwkQ53ry8UShJpnuaCp8E8\n",
       "fwK2DgnVJ322f7BQ58U2dYaFnreu6pBaXfg4UoQFAiVlaEeRT7cVgnuo4o9pJ7yFS7L0KYzS51AF\n",
       "t/4yAhwyTfMszliaG/fToXVhhRy8oajuyM1fH3NLAQ2huuMwj+TcKB/qLxUnZP/VwAPljvH0RWzZ\n",
       "XdLNYh60OnGUCQ4u3HwaN/vVtDOJCfj2X6x9oJDsE1gXhXrdPDjMs9Os9zYyzPmqvi2+HZv/R8Wo\n",
       "I7u9JTECKEi4nlmChJc6GqpVp80s2zUeRSww0kel8W+LfazS92JOCJTlXlqF5/KIDorN92b5vd7m\n",
       "sVVnZQKvqao3gaCGtd+6nPrNBxbIIwDhJa8sMzgJhlebjPHNu68p6k9Gc0rW1zf5qYn2T/APoD/z\n",
       "9cfBVMF/Ouha3HNJnIJuEqJZ1dqQJWaxnYfDkP4FtXXGA36T+Ccz7wznWHlk8EdHAvF1627vv7KI\n",
       "DLcRm4e3tSFc6GubeuFawoAHPCebOp+AJvy2bBN05dJGFQK8J4FFI2qEGCFDAFrqqLnMLHJCJvl7\n",
       "YNQMdvLwjWf7YAfDuAcwsU8YQ6MPg3VSEpKS0Jn/ncdEWJM4tk31ZgxrzAZt3hMB6ap+pwfeH/3S\n",
       "8fHORjbeUzoS+OwcC1dhUHdHHkrFYiJMooBnYHOWR4I08LrBpwKCSNN67TOIyydDJYtAAe2cEQTm\n",
       "D/deWSEFbzAs5YjN3KF6BNVRumi1RRPYU6zu/QuuMgufzoO8mNJmIwTUu5la0ninqYbgVfIdlPoW\n",
       "bVY0JFP9soZpI+LK6+4uHGAGVMx06uv5Nh+OOEGXNUshv5oA0UQ3B7xKtkZ9NGeqfTm7VCVajvKs\n",
       "hDv1jRFZ7UvOUXJkdTcTDtQru5P5jNrlDB/LFD83IRzlqyjh7lOpEKbAeksDaR608isjOltJ+4zi\n",
       "aDeYwiKnv3eqfR6usrkK3fRa6pQo3NWcUxd/OdRk2q6IbVN4KCy0r5S/lDLyVuKy2zH408y+gor0\n",
       "xuIq/e0s5IgtNb3P1SJVWG/zrtY20h8XjTxH45lnIxL+1vllLXimdY1ugFMXqkHd2ULLyygr3ll/\n",
       "EUM+/q7KPANjI1VfzhqNY6XbLKg7TE1aguN8M+KS/G8Td2nghuuvLMBTYMOWGWcuBEOs239jHZMG\n",
       "QuHFeOF1QEr88OzwUldyQjmVGcH+Ij1BeQ6/csvf/Xz9hTcG9FQs97By0kyxtVMbNMNWYy5b3vOq\n",
       "MCaUwWOPkIhp7MUkFdHuPQExNEImSt3f2vldJrGMiU/0cO81nx6zD/KPa89cTgoPb0G1wltythgI\n",
       "07gYCwZfB/hh+my/xYy1xWCwPJekGD9zF8HC1jOoaPILPlLh/3wVUp+Xygm2s4Oa6PV4i/4z+gLN\n",
       "LAt5oqcwIaVd/5NXAKngZ0WBUYZ3IuBEuqX/q/WmRSU4/aKAwTBOc4Cdkbrke1kHpiJeq2OVVGrZ\n",
       "xLlmxna/UXPpoUOi1b/0Qwu4/1CCGPJwzy+qlKO8R8LD8wcTDW3DNtsp4Dck6KbAw6uUP90U2TWv\n",
       "VPkzqAgHZhbhe0GLuEL3ZeJo4vJVEl0QuI3753dvluzQvhBWHyIMUvwjHTq+WhUOKDJSksJ0HJLV\n",
       "L545fvhal8lUVfSAUtO46RPjrA5n+tT+b+CJKtY+NAueLdW7GBjW2ibOMvSLmgKNDFQDH/qEkOeL\n",
       "w4FcHx8UaPFgswMQRyiHoa1bVwjf9QzmfXF+87eD0qPplksMSHA0sXOA/ew5581Fh6LpWAAACDkA\n",
       "AALBQZokbEEP/qpVAB82YQAEyxt4AYZOVQFZQTfmn06gVChSZCPqulAhRbAHYuKuGRSgDtPUPj72\n",
       "2gG6dZAwhLF3cdoj1HnP3fWNybZBkWDza7aUwFfKJoBCbTDfzViX/oTCdVCCZdeGgzdW9E8038Ev\n",
       "PEzL+N2eXC4uvSaANYYMxRjbp24IQa/WdC+CwhrfVhK7uj68ESWeGkGB9jeYiGGAVRbO4nhqjShB\n",
       "MdObbQtbVTrbzcSL6lCx/u/IHPyEPsxt6c/bSWeKTKClTB4vwHlt8+87gLh4zTQixRXhRtMP4ihD\n",
       "jrig0NM84jpjUEoQyx9ROmqgOnK8S6hAbP5U3iA9aa40LE6oPy9s7ZnZQEyuzPyNpXm0YrZ+nyGq\n",
       "fdGuZLFwiPvUYuL1SZNBJYtjGJe9WqE/WP4iAoAy0XfeYu3cMD6epJhd4ZBgorw8DWF9+f+DdbRd\n",
       "bNoc1b5lhCuHYiKb+uBzBhVYa90s84WL5Vh+lxPt63lonM5Mm7XmFMYlqBH3bZ0e4pxopMSSiv2a\n",
       "0+zm+E9lFcSZk3rsgkb5uWBR1LvF7NqMhwsWQ22jGsWbJx20E8bgldM7JnqVmOnE8aNaBYlUKMbk\n",
       "I6xp8e9o+8ftrMi3ZEeUCjCEs2wToUwcPmBRb5vO5UEaTrj9odKTREg2R4w0M/BvOd5cDCuQi6Q2\n",
       "9XX81Ov2KnIffWPlqZJIj+46pVGxzkguprCD+r2Fqqud22cdIqdPvjEEI+qBgv596EMTTbcaMueq\n",
       "ATdpVB5jcWkcnxaPorCQTIjr7I9wqiVS4SlysTJrENkop9egcI8Aocj8rWh0+/RR6zrCAiWPakGj\n",
       "D+1nRwo8Iodope+aQsGuC+eBVvRnX4hUOxa5JBU5YhLGhKBOiQLv2Tz4YrK+3sE2EyGO1B+YKWkU\n",
       "g7pINDUEWpew4lKFOkyTzJW/FnalEPHAAAABTEGeQniHfwAALKx/rIVfJO4+A4aqeVLuCFhkFTWk\n",
       "D+yX4IaAA0b3y4vHkBygIW9NcsgGadInsfgZ//ziIrGxH7eb8S9jycr4bPiyp4BOQnokSjp0/hEt\n",
       "E7/Ivz28qgc/CA+0EEEPn9IbE458rcL8+XugaYGq4UW/m+63dgSNKIETeQ19cryjUUt9SfIT6HKy\n",
       "lIsko7BimI0nXxDz7PABKjLBxlMjpWdgdnpsM7iM0p1EWhtdOj7NRJsuH6n6n6D2i0rD8u0W3efJ\n",
       "E7HXLC3kF5IgIeITxJzgNNQAyJM8/FUndJbZwFCxeae1EcecHFn7/q9U2h/V5hHB4rZ6oKfusgh7\n",
       "XPXKY6efSSYVPDJzWUmqdoIvYPh2J4jIFxB5+SRskM0hK0JI8/fR/RNVYOJHBTeVIZlMDGt5ppN6\n",
       "y5g7mFtP5FbedTMdFDGa40ipAAAAkwGeYXRDfwAMkKlDJ1kBoBgAp4o1w9GjHXYr3XOKixSyecRH\n",
       "rcADtLhZlTcgAvvACCFPkUTKstT+nbY8onKnqHqPuwiFnXjBAyuP0KDsnznpXUYUP+vbEF0UsDZV\n",
       "qNFnhZteivP/Ok2vsEboe/AX7NnLhOcH/Z1Pf3c7E6IC9dLiJESNFj00Rvwta30GtaIJqcXPZgAA\n",
       "ALEBnmNqQ38AAD4lD3sxW6BUacC8QWNJABfXu/RGnNdBGTu30+UE47zuGqgNlXjTOO+6W4ROhBiR\n",
       "QOyBxqx4nyhtlB2dDJQGsRzQn99OEdxidvqi6xZcbQdDjNr5d1aacr/XjCrgTpb3dwONqhN284gO\n",
       "RaYM3GyDjhul0GMZghVy+lG1UlRA/HH51qPweOyIk3gz77eK8GT1EZMcHkrpm9M8QiYsFQet/BPu\n",
       "6ZaN2joZf8EAAAPaQZpoSahBaJlMCG///qeEAA0+vEhI1MzAAX112OZf5R+RbsonabWmOhPnLIxZ\n",
       "Z2JhMMrxjhW/+eDt8IxiotJVtrenoTka52MVCrk+H9vMWgBZIZ8zJxgOz5nc62sDSeEhheY1J5JG\n",
       "vApVB2tvVL15PQ/9Dqvhn+LTrPAWE6QxsE3Bq4SoMpkPRm4X5Q8SwJYlRCDFDuoQMRCWDWvJzYiv\n",
       "HkPeYdyGsCJ5DgWPTdusa8uWFdvNBsuYOQUgKm1Ql9Oe+8eXVAJGYfdR4aJrncwUuX0hhF+qc4l9\n",
       "SPV7VhjcINjY/LHci5gDl95xo6KZ6Kf7GY2MvOjfnWh7tWFGUj6N6SqbiAtwQ57C8WKvo/Mrs/eQ\n",
       "Nk99RRbl7QnErqfnjFPBiYPWBAQiImaMYwFsgWN6UzeaPGnDIj3ix6NqABPvNFwyf5QPe/v6Yy+Z\n",
       "qAx0ygfSskS2XA6/h04uFu/paqu2eMahbKRfrPBPIAvEyIuf/z6SPCpsEiOQ5JWa/qQT2WBRRwNM\n",
       "JnjgOQct6RLlgvadC7WKNQoooxWSpUoByqtINextSawjXZV69GaI9gsccgvvz4M9a5o/OG7nd1UQ\n",
       "X5NsAvukgXst9SI9+9RJCNhkqZvKhwryJbZZ6G9wkVPJql0Rqc7JF++ANswXW2MLFibMsNMLY1ul\n",
       "JfXV0hiPa9OGEnnQQrFN9eQhT9sSUQoWo8m9tYGAwg9aE59Ea4S2iwIac2EASWZ9Q0/EUTtb0Meg\n",
       "u7isbQG9FmE6CG2a6us8z6c7rISo48ReuCp/JJMNRHLd1O/7tkx9Fo+gXi98whY769Ez6/oHvsr/\n",
       "JMMWl1LcFrSbfN6+IohuUHY8ncLCNPE6As8RTI8XfiLy7twP3Qfs5jST46Jyo93soqPrlVxCoIPE\n",
       "wtYEbCVNpNfewMyusRM853H1VNbG+QISl+sVBRB10tcWwLZNFZ194a9dZk+09+Q0XOajjhTkrjXw\n",
       "DbUgfXOnJRTiEnoduLZAUBX8W5YpUAAcQIi8Pg2dnlo/rlUrsRYcrSL3K3SFFspHTNL5ple0PULw\n",
       "wjWF6ZtqrB1Jndd/daapMINIbxQqCdRG51qp4ZB/oSf7xJLOGV2DX7jO7CcxDuV+fCmtoXQwwZiJ\n",
       "wPpx3xdAry7LPF6QTW98UsCnJGr3opgd7g5aLa8eN6O/Cmx0HHaM2b2WE9X66j4LtPlvfz/+yQti\n",
       "NGHUSkXbGqP+hxQN7kYkDLO2LF/lmW9V/xracyWcUySRNEXSxaEL6piQhnyaUOp9m+1xsiJW3rcU\n",
       "iZD1CCnTh/pxCMWdEg6OAKgUkHYIZsxsZYJ0ktsAAANIQZ6GRREsO/8AA0mwOkwHht4eVkPeTBh9\n",
       "nVPIxABo3lT+3HDltbk4JdIMYILVREKCIbvh8z+kTzA2uqNYmJqSSZpdmuVTqKNOdNrl8wcYHHjV\n",
       "9AOm6IRA+9Aggjf5EiIPHEzxAuuk1tX/jX7IZypNLrGNtVPlMwak3JN3OTGZKVa8qNpQ5HkE1MOO\n",
       "gz9iZK0fNdgjxewEsp7kl5fhda4P2h8E/lLDbjTlX65h47VWlw0ZATZWZ55icvrKIK4cTpniL22W\n",
       "451Y3dhZX7o84liRf/1flb1s5zSt3EbMYM5E/11HhogNDqkkD2B4Cgq6STGBdHjhDw3YqOxRD7CR\n",
       "AwQOj1BgURyymQWbXr1xw/pTLhKRG7n2kd75Lm2EYwryt2VbS5m02SmQYGD5PooJHlhUZSi3o6aN\n",
       "5lcPtxpOhY21sOx5q9AnsPX6u3kEUW0GW+4hNb+/EnD2B4qMyuc7nRAHBueZRFenrAfkvYupOgqh\n",
       "IvC7fsQMnm/sKVMmpbctQ6EoljSete0TfEyDuVKWoEEn9Xp7WKonw/W/0QLff+dEITZZPY1O7dHC\n",
       "zuZVHSm7+VexNqoBecF0qlPYo/ur/ZlfsvyKgCOAe5f4LfboRPDXkBVlhAhmJBIwjgxw+Pv7dK3q\n",
       "ITBsrpibZepVaKLE+y2AlIFdHTd532RYq+wqZ+Qnhnc17EHiz+yQ0tIRB0b4NdsZQWxcRtKUFTGh\n",
       "A9kkMoCGsjAI7V1Hows6CvQfMHkVB3/T/nenXCcPf6nrp8HLpz0a8K2Nt/HB7BpXW4mrife4c08J\n",
       "5Fba1tXADAdE3pL/WB3HhfRkvVECUbb0dAbfiy8mqCYhyUI5XHdKCyVND1udA6gS2Y74bqeKEIA0\n",
       "PxK0PWICOoaYAB8tlmLgLSap0J4HfV62LMH77ITudZ8vbNfP23PGaA8IEZAtz9+TPPX2b8N4Bfm8\n",
       "29luUw/G9Tc5l4g4c7E/l8k7XixnxuvlMp1VTV94+F4SB6+s7hnTef8+UN29WsdQIlv5AkuTTQHY\n",
       "UMqb1T7xo846b2ucg2RtDRE0at2Uzg+ITcvxYSv3BrTcg5hWA6aoanp8nfOwsaM+EQ4XaW84sv0a\n",
       "Uo5BZdY9FEDFxSqQGjvPALKBAAAA1QGepXRDfwAAPhp4XIjmZtOHLN8rknEABfXjE9vHDlefVMKY\n",
       "RNqXk5a5+Wc5pYDcxZZx4wwwShJiO7BzxPWNho4htqV9/hjXvXJL6KfkUEPOayGIGFvHAUSPB5bE\n",
       "z6vuAolejOpMuRKd831dXtzwDRZg6N3WO3bj4Dfosyn8KNr6nR9LeHVe7T97rdavzAuY2QJzf2PZ\n",
       "Y8Q9DNRmjr+e5rq8pKBnDjRU/dcCrUpIgGhQoOzAS1mzgMYCoX+d0tfmTGSow+G+3Nw5e/pKCd1z\n",
       "n1sl7Xk1IQAAAbYBnqdqQ38ABLa9AQ2xjv1jn3wAc5cdmajD/NTImTl28oJsmn9NL+kbleIbmLLP\n",
       "i6XmRTSPkmS5bxnLs4OvQSaOWRHpP7ksKP2d8yhTuEBHeLbXy6DLr7G+6cDXOkhM9xohxmUcmpY4\n",
       "nUDyezJbvR7RQe/ieLSswX2ZY/a6GXwbUp9F/sdMkrmPMxeOaNVsvdbqkiGt8Q/rF/AFYMV5nLqw\n",
       "tmvsx9wLyxIq5IptOobIzJKWYh+64Ww1mwKfYqOFhstfLiANOVHmn8/J4f+080W2EPZj+3e9Gyvw\n",
       "LeMg9zZ+9UFGEyS5UmdvAcyhJeKFikQO8ogKOYU4ODO0lisVLuidg3Yn/zMJwPjQm8mI20mSVVo0\n",
       "N22g47xPI6kTAJXc1Q2wjZEWJW71/wWpPkbc90izAovcs6j2+cVZOby3KoF7VvnhO45YuiKR2TDl\n",
       "OlRvL/38fjbJxbiJo7hcYLOnvG/cwIovSdfu9DC5n3o+4v4MxKd3430sgdRpkJ5Z68NOK4qPnZYe\n",
       "0Z6Bv/4kp9qt83ojDfUzIrpHRA18fi5Okb1CcUBFWrhkS0TN5qoBBHWlny+a5ECALKAAAAKHQZqp\n",
       "SahBbJlMCG///qeEAF137IooE3wAct+zbTckZ/t9S7MO9jueakccUTRlP7OrpMJgbNH/qaZcIfYZ\n",
       "Vq+NRoEUaeFY9XBPzB9z15Vv8Qw6ACkCtC3bVv/PDcKa1/0VvHBC0i3Mw1K9/I+NRKfaVVEfgQiA\n",
       "pq3WxX1WMjdVyIZJNUKN+GsJd3ZoJzLVNl7q5AmVyMsawATnUyIM5OjHGLmKCrm3+douYti8spZB\n",
       "suYm7xTgdMyg13lc3lnivyNenJR+DPmsZSoEnqCJhshHcSRF16KHO9rcAYDkCLrsHIGSP2HSPzds\n",
       "DG4zwv6qRU3vvUTCMtkHcunau5oAc8K+sEXTPvxbnRNMqakgZbKhUcy2Q5jGAfQ8m+00QxClRZ9/\n",
       "Dh1nnaCTmV4YZYTwLsO4MpbWrsYwdOvh6YIwn0f7Pxz67iZxmw8w6+F/bE9IbFr64I54t1bH2DKD\n",
       "Gjvsecckhp6Hjpd7tw4qqaQ9lN01l7rps80nOF6FIA1oWlR7TcLYdlmqXDGPlLFbaCBa+mFqRnqj\n",
       "T3cIU6r6m2O0iV00o7enVM5gHUUT26vreYGZf36xwkYUiRiPZ1ge9ylDwNxu2bay+k0iJij0Ygwm\n",
       "ZZW6XoH+rRPAiLtFItTofvyJxPh4O8S/qDsBjVcWrY2Fwt9TFoE9Gma1/CfdY8rh+siK5NwtpKZL\n",
       "oSFQpVfE3bkEae/7UYD4T+sGnIGsoG80IWKkdZ4C2tqNxPeHXw9J8qm+nnuVvtLX/GCGViYcxIDt\n",
       "ziP8xpUZPRhEgnljPHlUrBehvpMhhhGY1Q0WZ6IDzamkK3Qf0Vfkep0xZYjPs2Fe7TXbvu/DopKg\n",
       "091qHMawlOMZxApHrWbFEbMAAAKAQZrKSeEKUmUwIIf//qpVAAwXupwGRWfXltbgx3Du89eYNk4M\n",
       "L61gc6qczai+FXhGRwB/uElA0dwAOESeqyVokenhtt5W3S8by2dWOJ7H1c5ue74ts9C6gVu97xWZ\n",
       "bHIZ3h1ChhfFT6Mk08TG+hTKA3LgiW2f2aJTd+u6+xBMgRWsl7Y+iA9N/aTfl7NzF/wYWxP+Ugix\n",
       "YgG071LNc8+o4cNhFgOKGn09M/oXLc59dtD6LT6ht/Z4hmLuIiRUv1mfxl0xeZDeEzNo5cVFRfbk\n",
       "9psUJfs278Z2D3m/gLoCAcGp86wuokHTOcyheudCa/F59nexggqzBEK2MUbd9v4aftnTKEaAoOE/\n",
       "gwqF0DRkcf+aDF7fnVCjTE07hncGpOpBKH7N9il6OCMi+bXW+7zGqlkywpvJdsqaIaYBYgmPz+Ya\n",
       "F3ZWGcJWdwvdR6UAfTPbakwAbzyHUuVXBspXNavrMiI3Q/v4I8xY6ct3EH4l4c6kmzp1ZpBxXgG5\n",
       "UTTWREW1THNMIcDWVeNliPdSDmmuwmr25nZVy4Jz1e2TbIIyMwPlED+n40Lh2PgH4s1JG552Nghz\n",
       "gi2H6G/2mXnYYOurM18OMpKUc80W2g3/3Zu555IFMWMTxrK3Pj975d587Zs2G3KWkYeEN5NpIIy9\n",
       "onOIMOHJrvZfsm2Bi+MjBxUkP0PPow7nVb4hziec3p7VSsKZubk+DX1+GM2LDjYyDjMwwB5WeE+e\n",
       "WDw7RPY1iF3n2Jvec0iSWKgvfJza6EI84Y/duYPcYhvsV6QQDrxTuI3/pd+SPNtSNfEI0qy/WdBN\n",
       "TSbvir8/Sw5My65S3AzbeLev8+dnDfDl2jfwO5ZZ3FIqjwAAANxBmutJ4Q6JlMCCH/6qVQAbTZrP\n",
       "wlboQVzFqEKrSfo27MXugQTMmyFXliOIQiL7ntseDE0EcgY9munLQCrfb6+J0qDK0gxSzdrRCXKN\n",
       "fJptWsWRC3j4vTxvrbyddSxRl25T/iQQ2shojak0RGQvNErIdV5jYI2LzEf/mGYwisZGiJGh3oqc\n",
       "EGq70TRtCK3CZaudJaSa8f/HIV0Iqk1qV6wr0aNLSZEuDPTSz/MbjkVa9op5bPbinJafXQN/Y92S\n",
       "XpAyQNJYFqXkw9pwzPZPYH+Puf2smXp8sktwmeLaAAAET0GbD0nhDyZTAh///qmWAGW2UzzMiiP1\n",
       "QAWjoSlNM0PKKTLbXy0USuY5v3x/AlmtPflK21mIOLrYPy6vaPnY2uxJGXKLCoAl2IR5RezkUl0M\n",
       "akhr9BV6xEbGekqaetddbmyDqYmLIgquRvHzPqXYkBWdvUIbMKh4atnZ5B7hmd2NxoI++yDA5Ct0\n",
       "9O3WVIv8JB34FzGRokyg7VIHB4Qek1iP1xa1q555aPGfkLpUMQfXbepuIBbaPYf6PbbQlIUtG4o4\n",
       "GySltxrS/ehdmIs9DiWfqBRIpyjHe9/tQgsuBX5lJj6YYPb/Cdk2EIfBvsKFgEJwHM4BwbtGLrW1\n",
       "nbwji+uaEiXaxU2fP82yilxHDPsAHsr3C3rzRfNE+AcLCus2afIg8GIwra3Y1KKSlQ6HOe/MIJ0o\n",
       "LLGu7BYX1e19P+K2TQBP5pKTyR6RRzAlJAgLKxlKEAsw2jIZa3Jr2LrOyUGCbsVzWMmegWMtNYo0\n",
       "FY5RMEAliytiHWBtN2WVFcqoH5XXS/8tg1IPQ4vl242Ik95MYDNHsW5PK7/LIJAflfBPysMKwOl6\n",
       "t0RKQoJ85MWkBlTA8ipz00ZR4J0l2MHNRQ6CQXRF3l8ouNqGgnkBeENhPWu7jNUzlJOgT96V2v+P\n",
       "Cp9c/kDaZj1NQyeJ+wfM1+xmEXKPOAMX1wU1en4L0BfeETXYN2fPO/fImWwrSMLcfv1o3gdx6JYs\n",
       "C/mTJrCizXWRWPC7p2NZHcdoQkugckk8dwUkUI066K5DmIlBVLkjVWOllSMXHkQhyeAG4i3IYq5w\n",
       "MkzIlPrPzxMYwLLmBi3RhusL5YRpGifOY467r0+D0urRmAuYHaouOomlAlGT9F8rLJfe7DMFqtbw\n",
       "rzG8TfzjAiTo+OlL4JeEIcFxDDioGlKphdi+JVOZaEbNgmt8xf0NeiFspNY4nB+bytlJEzrap1Tz\n",
       "kAuSzTW45GrTW+ZMYHCqE+7v75/10cVwe3XGOPwkPHcR6gaTPyCx5O0SABz+HCYF9WR5evzUonDq\n",
       "+Wl702TsnJAYp6sSvQNkDli/4ffXW6Yr2sXtkkGfuCuGcxxr5J84knSAvR9sLbCSr51XOCira9Vx\n",
       "c1jeSAFM+Ok2kslAYUMBnTJYWG7YqCJ0x/thjS6rUFXRkYIPn5Lz7A2gdK6bg8RNMakVadQ8zoa1\n",
       "6lUSBPvcDnoFZEwtw8CDoYjM6GrwJE0klqmS5y+JgH2u6pDg2++IfmKXxyCqMg3uv0a8dDxBhUuB\n",
       "mM/0TXhPuexWwVe29HHxWX0mCcICrx4LIhGwYZ4Be6G8OpjobScgrFJkWS6gzlX/UaRF86e0Ode+\n",
       "QTk/FyZwPiLLnUFA06pZ9JbsQKZ4mR0R3/VI2L8bf8bTwUbeOtWew9p54oiJr4z0ooEc0Y/SZkNN\n",
       "xDOleE+RmxJMIsNJR039taz4IwFmjTLSVVXU3Z+R0A7pbeGyn8eiGg193eIVGtwtxRsbvgnWAAAC\n",
       "CEGfLUURPDv/ADXk0HwTs6ADm0GVMgvnxPDnEVT3QEgv9Sbl6pWNmAZ1PVPmwEKnD90d00qqtPir\n",
       "IklHge48ZFJLS6mRd/nMZ/ElSycKPRurYaZIJCNeOFNYtNdoCQKMnZw+8G2SCcW9pQrIIM2XbusY\n",
       "A1k5K5Wzb58HnJ4jl82ZP9XktkiwDept5RvJfhibG4RiERthBE7e2K7QdHmr0jUSCnNZR4QuSK2k\n",
       "SIe9jjH3gyD6/3/7nC8RLAXGIaMYEfnxmNRPUe9oP5PGuHWqtkUnnAZiCZUWp1xBCWmSl9U+htY4\n",
       "RYFjxkZxuKJUvhySsCuTPFCT3GH13qLE2sDjzdpv2nkRVhcCpJymj4+Pl7SBVDixMaOc1RCudoYT\n",
       "LnU4JFiYY8QDfTzPjKXOKk3KMCNOJxoWghmtytj6pjXjvrh0aVyI59c4VVcX0q/OAidy+6tOlh+l\n",
       "GBHIK+/J07gjmveaJpee9qDmyrFWr+17mRGDiRh1Y+M1WB37Sw57+PjTw7wrfUw99qQmTZujkG8k\n",
       "81FOK8YiA7Nh9Dh//bHMPXGJeDfwIQbxndaH2oxPfnXq5jzbRz2n4Bq6T+0DUAwph3O9LOiKIC6y\n",
       "xqtEBHizVuOEsEM9k/gnloEp4TXDeePgxss30P+Ieek+wWYClwhwNEwTVV6ki0Uh+LSpRlr3l9C2\n",
       "/wdsassHXcEAAADFAZ9MdEN/AE6/ZPhEI/gA2q46+fnKqg+4eXZ+knYWPpAlHeNBVRPwooOpOmpW\n",
       "nvoCltdOmHpM/5XAJMHNmevRg8M7vHKgRb25Q8SZEnCLG1nc/IUXLJG6hBFjLTGPgTblyp5SUs7/\n",
       "Ou80h/VvSrdNHdEUrdQq+QWsq1uSre+f1A48Y2NcHxD+cPbnEyuhsqz0uBKRnC2tFneiCXSpraKj\n",
       "E3wn2wOp1NpplqyqEcZg/zYE7H4Ca4sgM6fuT/cesBXE+p1gHdEAAAGYAZ9OakN/AE1jJb6wAbVc\n",
       "l3Vs2eL5Nw+FVoFt/8X/KCP64nJ/WFaZCEwW4DURJhzcZn87hLoJYRZz8X0HvaOKCFxqg3dkEJJz\n",
       "EgQUfzZGJZrmeZq7EKASAk+iK4oUnIHoY5YzfwMzb0vayP/S8a7rRNDo4g9hLT0ArGJRre6EgrPt\n",
       "T4X/LH0LovJm5k6YmK5cYhNXmFhpbXtNWqnqE8XOfpD3B0xOlq+TZA3RfwChiGrYUAtjTqNzkVvw\n",
       "GSNh+DDhRgmK6fwpy9QuXYiAAUeiXoeFKrEmoAHXMfECdK5WUmK/yM9ehEGkeqwlFEJBqIu3FuTr\n",
       "H/e4eMtSC4buMSwuo0FhV7vv7eijflGSXkVZyYWRRhP4Zo+kCgxlvlBUF5NrFkHXctaCWBTaCyQH\n",
       "bK8KNpuHXDX9Zs9O4ikzOxvfrwnNsQJnqBHbXeAIjDUVDeNEzMJtVdO15dT+wDxOZ5UCJAu0zKc8\n",
       "qEIcFUAYucJkQB03fh1WTQYxUwVUYsHoDaYuAo6P4m3ORz02uB4l/X+kQhYOIyTkeIOBAAABikGb\n",
       "UEmoQWiZTAgh//6qVQAZ6VjJ1ttX7UNNYADIN5KjZ5weqyevrCxKVehbgcDnaf/QY/qAxS+eEpXb\n",
       "6OC3V/gzjTk19fq2bmO0+XUU9zv31g1bE6Y+APMeHjIIBV1+XTRd5alAabLk/gxnfSEGFH5ZNwpz\n",
       "OdYytW0HaOg+k8oOR1QIeMsgXqu6HErLu+JsB2TUJMwg/urcSfCZBa/jyQg+xPSPg7TmkCA6NRY9\n",
       "9HoqJRxyKLWCgBJS30rF07EyXVSXOksTIdIkLgZaqgdSX0neH3XoNp8uba5MuX0dnG3hWXZMgt0U\n",
       "OgGYBwwga0YPVVp5qiEHWs0hhOfa3QCccXQ4aCKBVC9GVDeQl5kw81CBNdvXc621x/UvzgTPYrBW\n",
       "CRrndU9yCYDpzTOA0j3wr52kzZb4XBQinuMtiEvGWFrcUIyzkIJwGQ+927+ZIejDtTGGibTR0qBw\n",
       "2jynONpVaKvJoPCdbUlFirJhae11YkF75oh3ZiUTgeWDhPuP1rV/H49rGV2y7QNIAcAAAARRQZt0\n",
       "SeEKUmUwId/+qZYAYz4gtLv62F9OlhDqrQAZxYkog2II34yL192jadejsGWPBvWtP3msTwFgsbfP\n",
       "QjNM/2mZqPF7VKMqhEf5rkLA3ABceRxP5KZ1llM2n3Mz3rhOQzca88eHP3R/eoQd30SAvlBTYpn8\n",
       "ybBIwRTReJXP4PsKyjRRE8B3WUQM8lxWcpFheMP0CnDmSTRpkbhMoI5Cxdval9yWhU7Dbdpd6Ulv\n",
       "Ez94p22bJv2tYFCqTs3n8R9/S/IMhCrbNxcXcf+s1xuaE40WpYmJRk+HQquXhrn1BO659BK9YNuW\n",
       "O9Wt2ytODalHVpocBrEek37mpLxWqtoBLs8GRJSrRnfA8SeMbDMRj+MWoNLqS9grVLL3NO29Ks2F\n",
       "0HlVALZtI9QEjWrbmpIAX3Ztw/YT9xcI23HkQVICQcRfyomKTimq1vXD7zccTDL+0K4qT+eQQbz7\n",
       "kEtihiC7J8lYjMpRzeBt/skOSDmk33o7fchyDCLD4I0UXDCRGWO6CXaOWY2O7iPj8Pc4NmNpcp/E\n",
       "AoSZeUKywBtj1k5gLEOLvix7Z/xid/Y4SOdJL89jymZdqDbLDXUB1m0yVDf3uit9ZMDre+YUtVVG\n",
       "ZvQRAE+seqntRG2IarS1MeMB8pChXDcq/6dTdJ7/h0/6s0RZtPm8rOJgcWOVLqfbzRD5mg9hpkE7\n",
       "pplfdJRj250KOXyZS+ZM0dkeiueAxSf9uF+WTFbunj6I1VPwczCnwxkcmd2olM3BMS/YvB/tQVay\n",
       "mX1S6h10j1IiLGiGFIuDQxyv3etz+cZJyB1QU4PxhfKILBe+6HM9pekDhkv2+lyJmHWURErwmXO/\n",
       "j1XH28hhhQ+gTBearxX4O80o/zkg/w4rixBNzUcuVCZ4xiM78yMvYEkbOa6wfyUUSYrzg/9OVvYe\n",
       "IJ5dMlUkLMl3HvUi1CDkI5DEII9rFue72dJH0GRw52rDx1UPp+FQgh9Wfo90hUZtiC3XzmXiXcYz\n",
       "lhahcRcSjU2D2eBNp8L1LkpWZTkdCQ5c1POKZKuuf2RoAWTLtNWlYhTMDA1ajyFfN7XaofYpH5zA\n",
       "bQfRLk1Is0inKenjIFgHHtfjdf3AoTjTGFjZrTO3kSJMJJZWkpypQ2F/mOs64MD9wB4GBclZ9X09\n",
       "0O/mpCnBoVn2+6QqVr5gGGJj8bwY1g6m/S3JoBlWKBPAsf04ZZfbU8NKM6tPbBgtrczgCYFLSfeM\n",
       "zLIxhphmWq3ziGKgXMwKRaW/NzOXPuWHRKuG3FyyP3jDsms3ibJ5/3ggA9iFkwcZPxFnptozFUIk\n",
       "8b8IMA8kuPsvV2V/e8Qyial9Y2PQ9ahRrKT0CXRxIy2ViE+s99ssyYQL853CoKDU9FSW8KPhgGj3\n",
       "vcxM7PKfObMSGIN+IK2qhGE8FuYoanvb0VxCRHaTNIBMqo55SYrruyV2FOe1tzMsmbaaG4gKpqYK\n",
       "s6gn3zoVkWULUhnEEW37pHxnwAAABFxBn5JFNEw7/wAxW0t3J3L9I/ArEQAVAlqFnScLCrC8t04C\n",
       "oRkWucM26+fOAsaiW0U432O/vTTtTzQPOLqoQBcMnIVa16BEw896f0dknPnwoyg3D378plFJ0x/j\n",
       "XLIlWw5QEPV74sxwutDR0aqj62HnYX2gP+TC3kFGCrLqdaRyon1QZku0Yr43rTT+IeyBnFpxowLH\n",
       "BN+PrC5bDjSRQY3Ry+0bfRdlFnPWp0egZnWIjv6ddNDX/3iEsGc7cmkqXQr2wbiWOckN7PG0x0nm\n",
       "PO3dHJ5EAsbw3MZfWUI/JtYybZAqnDf4LTu8KoK7GrSDxSJ3MGlfnpf0q0mT9ubo88DQUNkdvPZB\n",
       "dPTmCM74cbAtNscWKN+9athcRYX6flG+fEZ2Z7+L2PYKQWkDpd2lgf2jRRFow3vxeByS+KArrCqG\n",
       "908bLOc/6Nnw+XdGp/u8YHNb9UaA5+/k/R+LuFFfOe8+hVny4+TUzv5sOhAqCUfTvzcbbqurJpqj\n",
       "hCOS4R5KsA5lFq7llV6DRo2sesEllbb+z2tAaDuD6byH1zI/UuGIqcOrLqzZPaqJugf+Wp5pu0gP\n",
       "1EkXv6KpLDXMjUltAiAI05RowbS2GqMNjHE+FNZnnj74xJP47WI5YVKyU0ppj05X7Kaa2psvlQWj\n",
       "cx+daGCS/DpAKfKK/0gQiKxiHe4vtsXt2ObSfkCS6Tq/Wf/369e3CTSruz1UpXVd9d+iS5e4NNpX\n",
       "uAyWTrA+46dfFnr42MLtkjPn1kBdoRr+8ifAJRU7xQg1Ytr1bpTgvvUyFYSNz8J/0JF4taigV93a\n",
       "CG370VOgZJqQgrlqbgOwWtq+5aA6R3eGjOSexqpK7nSD1IpFbi7wGdOwxsDID1IS+3iW4Rvt3HaN\n",
       "5Fqe5M3p20irN31BdVkkvhn5qmCi2zODF3G9EEXYjSP2ivteW30gbWnC7UjCDS3/Q5rCDQf/ITDp\n",
       "62QSQ5Gomhcr4ny3MdwGAjnPOSuh2ANqyhGPydhupvY7gs5h4oyyXYGGT8/2cu924yX/RIZNpuun\n",
       "Se44j/VJ/WBm0+k5Jp81S3BHPErtg5zngKlmjxPycO+2wA9Kv37PPbtqBGbEV/XLUr5F05hQHDaP\n",
       "piYaB6ssoX3fsukZPEe/w57Z9WvQBs3JpcCycBWF/qsiLejf8V+O1w19Nf416USLkrDKLgznaezv\n",
       "tL27Gq+CLPEt1jd/JmH9a2av8muT3KF3Ba7LTdeufZTRK9R7swbJ60A2HT/+tweyF6OPPOS/v+6A\n",
       "6DNW7LJVgW4sRb0sT8h9jXAP5kJr0OjJoQqgPzw3TDWDrucC+D/pBRwveuo5eE4d7PvU6Ha8yNiT\n",
       "6vJfAHRn6KwwaeUco7+0tUkBcW+NgVc97+/Dn+zdGgbbDI9/LkJngaDR/PcjBGWb+ONxGy80V6TL\n",
       "cQwSA8gjhpcm5NfMdAtZEe7xHoQfKXAOFJ1dPqCA2g1CppkeVY+h+6j1vMrnFuIRyC94Xm3wFTEA\n",
       "AAEzAZ+xdEN/AEVfXM1e93ACD8NgI01KCMHDf8x94OO5nURypWFNHI3k2pZ1Vn/c24/fokwvA6on\n",
       "hY+jqjar7AImSQo2HCPRZ6EVLJL9H8zlNBK3V0KjxFqU/XCNDKCZt2NES6pW2U6mwVAL/jQcr5qR\n",
       "UYP9TqO2vnLIlR3FxFMO+Eejlgo59lvXSn96xK4WwhWPJGEx5nYBDyLqSqmNcIMbp8ePs/CnvgWx\n",
       "nIm8i978CTviDH0j+bJQRtEIadPJOE+z6q1KZvTGRELhmQZ+kUxvq4/0B7sz6T5wHmcuSZeb5Du+\n",
       "4tbirGAPl+MigYYV4KSpCenaR6Qh9aSj91v0vtEY9YAcLWB4cvuP3qbyEIp+X2fCYDqS1U4oA5zm\n",
       "kBG358ziifjEoapwXBz9dF39xEZHkHgpoAAAAuIBn7NqQ38AP4OzgYjwGy9X1qABCQwO+pUhYByI\n",
       "UPx2SMz2Y7oZHaZBDGASH2+CJQoo8ya6ZV/HUTu+71nwZDWjJYCd+/yGK/Z7TTj1pnQ9aVeQHjfF\n",
       "g7InTIFEmxpxojzxl2/shwvim049qAuaT9nLMfbCRTodEV8X2G0Bas64U9vgqgse7INjSOtQ+WjZ\n",
       "Q3PoAdNyNAhU0OccEIfjRKaL29H7qDi0vuMAz7WyfrtOCmV1ry9e+6GlP/o2GvmC/61J4JoFMIwe\n",
       "aAHwhvHG+oLNK9C+epfGShoK2UL0LviqIK7vEZbiDqHVdFiwV32Da6LClm9/kmA+5TuMv2/c8DyS\n",
       "s59abNSyOtOOLdg4GcNgN8Psu5DBTLr5GMbs6as9kgdd0kqvT7wpYHv37SUy1WaXwealftm94GON\n",
       "h50BvyHE8/ea5jWwpyKuBVDx0l5rEbF5G368+iq/m4qSKHS7X4zah4dOx83U8CTKb8ke9rdLV7q5\n",
       "hjVt+5x/LNIldxcsM4Q0g8IvcgiPNRECzJNRDjZNr5L215KzmAzj99DKA/siXsllpqPbgtOUO6HI\n",
       "K4AzVha3KiH0vVdzmiQPlx9mGAJP/xrjDSmlDJRJgEFmuwO3XQriJI+dq3y+KQar3f1gNqU79aem\n",
       "5T7J/Y2YKJ3IuKhI8UsUWsHfqPJ6yjXS9oGGmkk7JTs71RApwonIwRxWrvRggjjyutX5bmG1iuiB\n",
       "LQAEoxA7/t3x6gUrPu+riXuuNd742LDO2icxLx8cREwzRQDmthzgmsce329uhzHiKdCPThV0RupT\n",
       "QSRXY45EOwo+EMftC8tTXom9iSxAjJ5NU5W7mrLIAf8AntCpUiW9HP7w3eB6xGVB4D4En94DFg9O\n",
       "HGB68wZMzIxrat6ySnSlSc+/VHytiJcV1mdTBPYqhp92slI9CO28bcefwACz+/X7M23PyvcgnXe6\n",
       "OVH14s6687N5B2ZNssEJr5XLrsEPuqvrpOAAAAPoQZu4SahBaJlMCG///qeEAKeCh8Mb74zo4bgB\n",
       "At2izwOU8+b33/+HRBlKUeGYs6P9QGtszd9Wv/v2ru+LS7SLxGmII5AIctJIiO2+6MYJp9v43s7S\n",
       "PNe4W+T3zP96gfNdHnCaqcMM7G4P92WACrwMc8nqA8Bf6qXJguGNzxtyG/a/OxFCq5BadH3W7BdV\n",
       "9aS8N7qe3aRpF/0P8nh/c2hkJTXnwkw49zmKaLKJE6eaL/RWExpqyE1rcTsdc6RTw2bOgsNYni1Y\n",
       "y6F510t7DdzbZ2uSWqOTZ2qpJ+6q9856Aipmi4QvAWmIPsNlvGLUUx9IAgCJYyfX7GDjG8bpQXgG\n",
       "7b/STs0o/S4O+FvzwYy71kGG72/xkr4+k7A5QfWOqG3sj6MV8saFShVIonXT7Gryt+vNgFj/Cuhm\n",
       "Dc0OqD24ATrhtAjPJhdS9bjxmoUcVNFljYYiM4FSIJxUOVfwlhn1RRVFr+B/cVUP8ZIO6EX3qf2i\n",
       "cZuAtuwi60lrNvvxUL2CRH96BpTS6GhBRQbeZFAbWEFJev+lP7R2x4LovVoe8Pz5mV0myGFDX7+p\n",
       "dTouYMCh3ywK3ynYuTPVnOGKtnn7y6F9Nf6ovIhGMimFPFzkx4U65orgPMzo/7HVcR35x7siAe3s\n",
       "9+xHSWfOFINnbmgN8fSsFF88XOcQDd8qWcQs3+qTc2qY5uiqIS4vMXaJeXtVgu5Wd8RVBi5+iA2y\n",
       "AopqAWLGNvk3olyZ0Re2Hr9wUaOAtkTrwPwD1b/4KFHZg4ozKJs69RlBtBXJFCH4ykwz7aefenMq\n",
       "eDuNpiocSdqWhy2sqp1Y/5/O/GjEDPocZDyJYypuokVahw3LnPpSG4AhwGYuOabnn20NtgiJ/NAQ\n",
       "nHsIi3xIdHJQgyRfz63VJFJipFG9inJlytNEgQkSIHIrPCdMdX/WM9FpHjEmZjcsKL4Nmtq2n/n3\n",
       "JHhsPYkUD9rNmYqQ9xO8Wc2I1HeH3L+VjjUQAU0KRBS7wEiMti8WRrJyDg1aas5/zDo1EY4iEFK/\n",
       "x/uVMl9ZPn97Ro+6kc2qiE1bcJXH8YvrifLu7yZkfNHhvspgDdIm+YGitacEZkyBZtT7b1FZ7ri9\n",
       "IZM3tloRAlO23Ft8vkddxLHjRwzwnyzRkxdnEP6RrkcM4prwkBMiB98c7PO2pgmYuzYixZLqfCRi\n",
       "tTj7cAg9rf3SiUiqQ+dbmWCiU/WWVVlZwjTGggQfaA2rNd/fgGyCR9RxJxvOPa8k5L9eiS6Dcp5V\n",
       "dUftPhB1+IQW/E7W0bAmoq4xapxIoNcWKmPe7UDqZ7nytDW47JBGub2oyn5QYGrjZhNbo1fvDy+S\n",
       "ONKXgQAABGNBn9ZFESw7/wArjhZkZCpfwlS9QAlUgC9Idd6QpualH/ZzcZ2C0BWdbZ1xsCLcflZc\n",
       "7zzCoc8qBqanFW1TjTqrChxk/WkaHOfLpKOy8yupGLjNCv+54vE9uZ6QCPwzU4GgCLtZT/IVPp/7\n",
       "/CuxV/b/X4kmw6Xr4y84FBrae/5iU4AQSSuo8Cv+4kVoJ+SgtCw30CUerwApa3+q3CirNIsdxZ2d\n",
       "wKz3fJB2YPckxoPQFGOfBN5SGihmQyUYPt/j3gRno/pcURS+qzc7wkMCQjC6F0T/Gf/hWkHObh8g\n",
       "EvZEAawM1NrKsAv4hwUEfvKmZx2GqLDfJYAilRh+zx9kexlEdo4xqZ1YlFKDMsLM7HeCLzo8clMK\n",
       "/r1BMFzllDBmzrEgbNnfOslQX+6sLxNf03EwpHPbUzrZgPgtpk2W3qaNVW4Fjo9S0luYqjYh3jq7\n",
       "kapEGJTFBgH9yXa6v8NtZXg+SLsPTQJhMYAR1f+q0oIPmggYOdjLSIU2BIySEHctIt/a4R0jTJGt\n",
       "JOG0v7X8UlCUy0VfQfFJvh9Rs3L1P4GAJtO2X864FsAtGePJ7xvlqSMQ798Sbdxev06easQWZb0a\n",
       "Q0eSDfxsHLuKG3Y4n1sfnHmJgDjbkeCC5Cs601wuYFeAnAQnac2TpB/2cVJOTonkCVR1CZN0BhHQ\n",
       "KUm546ymEB2iYu0Pmv9T91hNkUZh6Ffv03pdmMtqUxDxOMGLJHL+I99S7ZVgxNczDyWwxEtFiCZd\n",
       "cEPPiiuDg+ZjGszINNYMDALO3kkSOPBmVvV/YMl2wO7+atWUr9QRj/RxEFYkeEXoWXfGfIE2qn2E\n",
       "bCMET8/Z7bjKt2PnqpZHvTG1Ablv11WosPsquUB0SEEDOO4F3PnBNxYGjAPsl0S0mf3E3tm72UA/\n",
       "Ffm3tMGvqZxljGc0jC8TVb7XsmlCPJd6+eQw732MfYE2NsB9eq/P09tI7yGX6/ZcfW3BO71v0gvq\n",
       "eXpxNqbrdPU3Mm8RcXWC7mZDdth9TuxovBeod9XAGiNI9QxQ4HYlOkNKFh6LazRn4O1jtpxQRKxN\n",
       "MJ9190ikpWX50mpyK0d574zIsM21Tz85tyx1Jb6l2fkc+oTjxIrC4dco6kUdpYGoBUIs77EOyg8o\n",
       "Ao/+9g2pfM+BfuZMuFKTzlLBFQV+sI3ldhDEPIVzsRxevt03EcH38ey7ywCZih0zmChOs4zFUvO5\n",
       "iuFPR6rCpzC+FAzOXwI0i2qAqxmxL9wkInqQICkuk83YN66Di4ndTAZeGpqC7/NARCIutdzGMBwc\n",
       "EnQCKWshvQc3z1+EPLBKPSZ4yQT6bDgmFC/N5IAklx93EQdW6Zt0CalFyDiIf6F6ISS/JDvgx0OV\n",
       "EGI9zfiFU8wd8AgBq2SHSkxGH3VO2I8z7gRXRf1myx0NF0PQcXqawfKE/iN8ZCKCJDQIwGCYgZ5V\n",
       "RN8Ex5O3Ua68DCfK2OCmmKEmNwx4AWq97SymeL1jEwT1qWSPbs4KklTEcriVUmHHAAADygGf9XRD\n",
       "fwA7WlYX3zWthuADiLU4ZwfP3z1lhreBp7RndbHanH1KttkYz0TKstEESCdVeTfmkImIY/yGNqLH\n",
       "1jqNB8oa/QO8oohJ/dus2kLLKo/C57stczFnfgnf66fWz/N2Ai2ZdUpNoffTnHykC7oxiU6Cm7Y1\n",
       "cQkYZP8f+bu+UtHIFIGiWeMvz5KSeDq0kdTDqaBU8RC0n45nGgK5AL/uSv82/bZcOLn+YEKDpvVa\n",
       "J5JgS9bjrTAe6tV6QpF/Kzq6LaI4zGIBfuGFzilnvzZdWw2Hup4L9r94r6Vsx9nVbSgRLFNqXm6/\n",
       "0yM81h40GH/8/WcKNEUOuWSuBINbB/0pYe1EaxTjOkGhYk//RnG9Eo4ATb+/GTFwxyDDSPdKVpLU\n",
       "Y78H0ugaYslR5qj+YGS2spidPVwHgL5e3dcFbmf4qO+bS7B7rGP9Hg0GCINCk6KaaI+gXNmvjOF/\n",
       "+725AW7A9iyMndGe3U6yYnPk2PUjR46KQOsOgY1CM7uftNhWSyhc68FU1NE8/2t/bNeL+MlpXPhs\n",
       "EANdz2+lqmMMYCIlPfY2dZ4Zy/b050Z/+BmhRWeeABszXB0renJF8U7JBRozN8sarqElKZHN8/7V\n",
       "m2I558jL3ox+1o6Fum5I1emueZ0cvzatSp9tPn3uh7IHQ4a1XZGR3BPJLqjQa32G4Adgd+h5Hvk7\n",
       "zfvv8l/YQthIBLYRvMovKFt8KFELFTTC1rCtwFJaZOQ4Zuab7/dLlbSfUOoaeyJeN1E2SEwda/Gx\n",
       "SdxZJPxXb5gg43QMm1yRQJR5juaR2UGUddkiPJRpqwKbWvNpiq25l53XdeMQG6E2hrsevqYLCDPJ\n",
       "ACX9GNRyMtzRjNZwm1Y5rrZ4bdYEmEeksW4ZICaOKltpo5wkLubaidPhxFOUY0RmL+F46koiokSD\n",
       "F4cR5R0VRkJQJ8pHqAtudVu8pF5V+O56Yul9BsJMk1U2gb/rty7ETyZBKwVfO3ZO+CzTYWeeRNlx\n",
       "BfAvGzTDIxTMV36jVz9brR1vrImjbw4uCLEQqEb2lFTCM10SPsPstLYJTrVfiUtv7bGnUlU4lK5J\n",
       "AIx2BYAtzIMxKhUN8lXIXY4cehBjfShJFPnIJg726zCWdcB7qGRwKcJnOGGfgNNK0YO+cQZmTuy6\n",
       "H/O3azbqm9qIVKL4TKSI7BKEHS9/275s5vndjRFYJ4UIYgVjIxFramgWdNjBc/o0TFWBTf/iNt5K\n",
       "nKX/ZmHAd6Rao2IsFTaGQgLpFnmY5eyX3DZErWdcr4TOdpD75MMVvkSGj4hpfDnF7R3YHHEAAAFU\n",
       "AZ/3akN/ADideBZuJZMDwAc5cl1Mt6duFb+uYDO8hP1XSBOxCMm0/6rhL4MrM20r7HplqcDfSEEz\n",
       "sqHFTgoAaYDOJThfBq9ZmurXPKBKWxafeVvvH6EVOmWe1s3qlR72EFhntHVVCtZK8GdnTDMdS0rO\n",
       "6FhrFWPVFDfurWNHHNqmnrmZ7w5S/BGaPdZ6PzYRPRWxnVBlibeqWVrEB5qLVJ8MZO6sqDWDNAks\n",
       "oacUw7EBWqDOxdgerdLkRk2tjyv0oAdZSfKZHIHDkvekBBgO07Z6kSL1Gvn9j/PpgCXMWvTpy2Hz\n",
       "agdWcESNoywUvz4lbb3ksvTRHXGyLfBzq9YSpa2EJhrQVxRgy3iBEtTMxQHQls4JrW+2S99g6G9e\n",
       "2e75QpUnkRdDBJY1pCo0now4iVG7v77iTpx2aavej/P/si/gHgb/ZQlJ5T7jexe2o1PlG1AG9QAA\n",
       "BEttb292AAAAbG12aGQAAAAAAAAAAAAAAAAAAAPoAAAJxAABAAABAAAAAAAAAAAAAAAAAQAAAAAA\n",
       "AAAAAAAAAAAAAAEAAAAAAAAAAAAAAAAAAEAAAAAAAAAAAAAAAAAAAAAAAAAAAAAAAAAAAAAAAAAC\n",
       "AAADdXRyYWsAAABcdGtoZAAAAAMAAAAAAAAAAAAAAAEAAAAAAAAJxAAAAAAAAAAAAAAAAAAAAAAA\n",
       "AQAAAAAAAAAAAAAAAAAAAAEAAAAAAAAAAAAAAAAAAEAAAAACWAAAAZAAAAAAACRlZHRzAAAAHGVs\n",
       "c3QAAAAAAAAAAQAACcQAAAgAAAEAAAAAAu1tZGlhAAAAIG1kaGQAAAAAAAAAAAAAAAAAACgAAABk\n",
       "AFXEAAAAAAAtaGRscgAAAAAAAAAAdmlkZQAAAAAAAAAAAAAAAFZpZGVvSGFuZGxlcgAAAAKYbWlu\n",
       "ZgAAABR2bWhkAAAAAQAAAAAAAAAAAAAAJGRpbmYAAAAcZHJlZgAAAAAAAAABAAAADHVybCAAAAAB\n",
       "AAACWHN0YmwAAAC0c3RzZAAAAAAAAAABAAAApGF2YzEAAAAAAAAAAQAAAAAAAAAAAAAAAAAAAAAC\n",
       "WAGQAEgAAABIAAAAAAAAAAEAAAAAAAAAAAAAAAAAAAAAAAAAAAAAAAAAAAAAAAAAAAAY//8AAAAy\n",
       "YXZjQwFkABb/4QAZZ2QAFqzZQJgz5eEAAAMAAQAAAwAUDxYtlgEABmjr48siwAAAABx1dWlka2hA\n",
       "8l8kT8W6OaUbzwMj8wAAAAAAAAAYc3R0cwAAAAAAAAABAAAAGQAABAAAAAAUc3RzcwAAAAAAAAAB\n",
       "AAAAAQAAAMhjdHRzAAAAAAAAABcAAAABAAAIAAAAAAEAABQAAAAAAQAACAAAAAABAAAAAAAAAAEA\n",
       "AAQAAAAAAQAAFAAAAAABAAAIAAAAAAEAAAAAAAAAAQAABAAAAAADAAAIAAAAAAEAABQAAAAAAQAA\n",
       "CAAAAAABAAAAAAAAAAEAAAQAAAAAAQAACAAAAAABAAAUAAAAAAEAAAgAAAAAAQAAAAAAAAABAAAE\n",
       "AAAAAAEAABQAAAAAAQAACAAAAAABAAAAAAAAAAEAAAQAAAAAHHN0c2MAAAAAAAAAAQAAAAEAAAAZ\n",
       "AAAAAQAAAHhzdHN6AAAAAAAAAAAAAAAZAAATawAAAsUAAAFQAAAAlwAAALUAAAPeAAADTAAAANkA\n",
       "AAG6AAACiwAAAoQAAADgAAAEUwAAAgwAAADJAAABnAAAAY4AAARVAAAEYAAAATcAAALmAAAD7AAA\n",
       "BGcAAAPOAAABWAAAABRzdGNvAAAAAAAAAAEAAAAsAAAAYnVkdGEAAABabWV0YQAAAAAAAAAhaGRs\n",
       "cgAAAAAAAAAAbWRpcmFwcGwAAAAAAAAAAAAAAAAtaWxzdAAAACWpdG9vAAAAHWRhdGEAAAABAAAA\n",
       "AExhdmY1Ny40MS4xMDA=\n",
       "\">\n",
       "  Your browser does not support the video tag.\n",
       "</video>"
      ],
      "text/plain": [
       "<matplotlib.animation.FuncAnimation at 0x10b37ad50>"
      ]
     },
     "execution_count": 10,
     "metadata": {},
     "output_type": "execute_result"
    }
   ],
   "source": [
    "plotTrajectoriesFile('DelayParticle.nc', mode='movie2d_notebook')"
   ]
  },
  {
   "cell_type": "code",
   "execution_count": null,
   "metadata": {
    "collapsed": true
   },
   "outputs": [],
   "source": []
  }
 ],
 "metadata": {
  "kernelspec": {
   "display_name": "Python 2",
   "language": "python",
   "name": "python2"
  },
  "language_info": {
   "codemirror_mode": {
    "name": "ipython",
    "version": 2
   },
   "file_extension": ".py",
   "mimetype": "text/x-python",
   "name": "python",
   "nbconvert_exporter": "python",
   "pygments_lexer": "ipython2",
   "version": "2.7.12"
  }
 },
 "nbformat": 4,
 "nbformat_minor": 1
}
